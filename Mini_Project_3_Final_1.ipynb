{
  "nbformat": 4,
  "nbformat_minor": 0,
  "metadata": {
    "colab": {
      "name": "Mini_Project_3_Final_1.ipynb",
      "provenance": [],
      "collapsed_sections": []
    },
    "kernelspec": {
      "display_name": "Python 3",
      "language": "python",
      "name": "python3"
    },
    "language_info": {
      "codemirror_mode": {
        "name": "ipython",
        "version": 3
      },
      "file_extension": ".py",
      "mimetype": "text/x-python",
      "name": "python",
      "nbconvert_exporter": "python",
      "pygments_lexer": "ipython3",
      "version": "3.7.3"
    }
  },
  "cells": [
    {
      "cell_type": "markdown",
      "metadata": {
        "colab_type": "text",
        "id": "EzX3jsc_mQmL"
      },
      "source": [
        "**Question 1:**\n",
        "\n",
        "Select a dataset of you own choice of sufficient size, at least 500 rows, (prefer over a thousand rows), and at least 10 predictor attributes (prefer at least 20), and a target attribute. The target should be categorical.\n",
        "Build a decision tree classifier for your data in Python, and select hyperparameters through the following steps:\n",
        "\n",
        "*   Hold back 30% of your data for testing.\n",
        "*   For the remaining data, use 5 fold cross validation to select hyperparameters.\n",
        "*   In each fold, use the training data to predict the test data for values of hyperparameters.\n",
        "\n",
        "Tasks to Complete:\n",
        "\n",
        "1.  Provide your code.\n",
        "2.  Plot the test error rate over each fold (5 points) versus hyperparameters. Comment on the value of hyperparameters selected and why you selected these. Consider error rate and complexity.\n",
        "3.  Estimate the generalization error rate for your final model."
      ]
    },
    {
      "cell_type": "markdown",
      "metadata": {
        "colab_type": "text",
        "id": "LFvmzWM-nkZm"
      },
      "source": [
        "**Solution:**\n",
        "\n",
        "**Understanding the data:**\n",
        "The data is related with direct marketing campaigns (phone calls) of a Portuguese banking institution. The classification goal is to predict if the client will subscribe a term deposit (variable y).\n",
        "\n",
        "**Data Source:** The data is related with direct marketing campaigns of a Portuguese banking institution. The marketing campaigns were based on phone calls. Often, more than one contact to the same client was required, in order to access if the product (bank term deposit) would be ('yes') or not ('no') subscribed. The data is downloaded from https://www.kaggle.com/henriqueyamahata/bank-marketing\n",
        "\n",
        "**Attributes:** There are 20 attributes, some of which are categorical and others are numerical. The attributes are collected to have data about the following categories:\n",
        "\n",
        "> **a) Bank Client Data:** This section has attributes like \"Age\", \"Job\", \"Marital\", \"Education\", \"Default\", \"Housing\", \"Loan\". The section provides knowledge about the clients characteristics.\n",
        "\n",
        "> **b) Related with the last contact of the current campaign:** This section has attributes like, \"Contact\",\"Month\",\"Day_of_week\",\"Duration\". These attributes provides information about the behavior of client during contact done during the last  contact\n",
        "\n",
        "> **c) Other attributes:** Campaign, Pdays, Previous, Poutcome\n",
        "\n",
        "> **d) Social and economic context attributes:** Emp.var.rate, Cons.price.idx, Cons.conf.idx, Euribor3m, Nr.employed\n",
        "\n",
        "**Instances:** There are 40,000 instances of data"
      ]
    },
    {
      "cell_type": "markdown",
      "metadata": {
        "colab_type": "text",
        "id": "WMx3COyYrxOE"
      },
      "source": [
        "First, Lets Load all the required libraries and packages. "
      ]
    },
    {
      "cell_type": "code",
      "metadata": {
        "colab_type": "code",
        "id": "dYNYKc1xVV3p",
        "colab": {}
      },
      "source": [
        "from pandas_ml import ConfusionMatrix\n",
        "import numpy as np\n",
        "import pandas as pd\n",
        "import pydotplus\n",
        "#from google.colab import drive\n",
        "from IPython.display import Image\n",
        "from pylab import rcParams\n",
        "from sklearn import metrics, preprocessing, tree\n",
        "from sklearn.metrics import f1_score, make_scorer\n",
        "from sklearn.model_selection import cross_val_score\n",
        "from sklearn.model_selection import GridSearchCV\n",
        "from sklearn.model_selection import train_test_split\n",
        "from io import StringIO\n",
        "import warnings\n",
        "from sklearn.metrics import accuracy_score\n",
        "from sklearn.tree import DecisionTreeClassifier\n",
        "from scipy import misc\n",
        "from sklearn import tree\n",
        "from matplotlib.pyplot import imread\n",
        "from matplotlib import pyplot as plt\n",
        "from sklearn.tree import plot_tree\n",
        "\n",
        "from sklearn.model_selection import cross_validate, KFold\n",
        "\n",
        "# To support plots\n",
        "from ipywidgets import interact\n",
        "import ipywidgets as widgets\n",
        "import matplotlib as mpl\n",
        "import matplotlib.pyplot as plt\n",
        "from matplotlib.colors import ListedColormap\n",
        "\n",
        "import math\n",
        "\n",
        "# To display all the plots inline\n",
        "%matplotlib inline\n",
        "\n",
        "from sklearn.linear_model import LinearRegression\n",
        "from sklearn.preprocessing import StandardScaler\n",
        "from sklearn.preprocessing import MinMaxScaler\n",
        "from sklearn.preprocessing import Binarizer"
      ],
      "execution_count": 0,
      "outputs": []
    },
    {
      "cell_type": "code",
      "metadata": {
        "colab_type": "code",
        "id": "rSwdcB85VklT",
        "colab": {}
      },
      "source": [
        "%matplotlib inline\n",
        "rcParams['figure.figsize'] = 6, 6\n",
        "warnings.filterwarnings(\"ignore\")"
      ],
      "execution_count": 0,
      "outputs": []
    },
    {
      "cell_type": "markdown",
      "metadata": {
        "colab_type": "text",
        "id": "L2XLtJlfr_z8"
      },
      "source": [
        "Now, Here we load the data"
      ]
    },
    {
      "cell_type": "code",
      "metadata": {
        "colab_type": "code",
        "id": "XAk62pWEWigS",
        "colab": {}
      },
      "source": [
        "bank_data = pd.read_csv('./bankadditionalfull.csv')"
      ],
      "execution_count": 0,
      "outputs": []
    },
    {
      "cell_type": "markdown",
      "metadata": {
        "colab_type": "text",
        "id": "hfjpFAo6sOrX"
      },
      "source": [
        "Before moving further to work on the data, we should understand the shape of the data and should check if it has any missing values to deal with the same."
      ]
    },
    {
      "cell_type": "code",
      "metadata": {
        "colab_type": "code",
        "id": "JtUICJitlGDp",
        "colab": {},
        "outputId": "968abf51-730f-4f68-f6bf-04a59463f0d8"
      },
      "source": [
        "#Total rows and columns in dataset\n",
        "bank_data.shape"
      ],
      "execution_count": 0,
      "outputs": [
        {
          "output_type": "execute_result",
          "data": {
            "text/plain": [
              "(41188, 21)"
            ]
          },
          "metadata": {
            "tags": []
          },
          "execution_count": 21
        }
      ]
    },
    {
      "cell_type": "code",
      "metadata": {
        "colab_type": "code",
        "id": "X-biJf4klIsj",
        "colab": {},
        "outputId": "5d7b813c-e73e-4395-f735-206facbd0c50"
      },
      "source": [
        "#Checking missing/null values\n",
        "bank_data.isnull().values.any()"
      ],
      "execution_count": 0,
      "outputs": [
        {
          "output_type": "execute_result",
          "data": {
            "text/plain": [
              "False"
            ]
          },
          "metadata": {
            "tags": []
          },
          "execution_count": 22
        }
      ]
    },
    {
      "cell_type": "markdown",
      "metadata": {
        "colab_type": "text",
        "id": "PwGohCkjsjBv"
      },
      "source": [
        "As it is clear, there are no missing values. Now as the data has a mix of categorical and numerical attributes, it is important to convert the categorical attributes to numerical format, based on the unique categories in each column, so that the model can be build on the whole data"
      ]
    },
    {
      "cell_type": "code",
      "metadata": {
        "colab_type": "code",
        "id": "TE98JZv-lLpZ",
        "colab": {}
      },
      "source": [
        "bank_data[\"job\"] = bank_data[\"job\"].astype('category')\n",
        "bank_data[\"marital\"] = bank_data[\"marital\"].astype('category')\n",
        "bank_data[\"education\"] = bank_data[\"education\"].astype('category')\n",
        "bank_data[\"default\"] = bank_data[\"default\"].astype('category')\n",
        "bank_data[\"housing\"] = bank_data[\"housing\"].astype('category')\n",
        "bank_data[\"loan\"] = bank_data[\"loan\"].astype('category')\n",
        "bank_data[\"contact\"] = bank_data[\"contact\"].astype('category')\n",
        "bank_data[\"month\"] = bank_data[\"month\"].astype('category')\n",
        "bank_data[\"day_of_week\"] = bank_data[\"day_of_week\"].astype('category')\n",
        "bank_data[\"poutcome\"] = bank_data[\"poutcome\"].astype('category')\n",
        "bank_data[\"y\"] = bank_data[\"y\"].astype('category')"
      ],
      "execution_count": 0,
      "outputs": []
    },
    {
      "cell_type": "code",
      "metadata": {
        "colab_type": "code",
        "id": "-haHZtTBlOcT",
        "colab": {},
        "outputId": "f3e24f60-5676-4c50-b611-df984a3d73e5"
      },
      "source": [
        "bank_data[\"job\"] = bank_data[\"job\"].cat.codes\n",
        "bank_data[\"marital\"] = bank_data[\"marital\"].cat.codes\n",
        "bank_data[\"education\"] = bank_data[\"education\"].cat.codes\n",
        "bank_data[\"default\"] = bank_data[\"default\"].cat.codes\n",
        "bank_data[\"housing\"] = bank_data[\"housing\"].cat.codes\n",
        "bank_data[\"loan\"] = bank_data[\"loan\"].cat.codes\n",
        "bank_data[\"contact\"] = bank_data[\"contact\"].cat.codes\n",
        "bank_data[\"month\"] = bank_data[\"month\"].cat.codes\n",
        "bank_data[\"day_of_week\"] = bank_data[\"day_of_week\"].cat.codes\n",
        "bank_data[\"poutcome\"] = bank_data[\"poutcome\"].cat.codes\n",
        "bank_data[\"y\"] = bank_data[\"y\"].cat.codes\n",
        "\n",
        "bank_data.head(5)"
      ],
      "execution_count": 0,
      "outputs": [
        {
          "output_type": "execute_result",
          "data": {
            "text/html": [
              "<div>\n",
              "<style scoped>\n",
              "    .dataframe tbody tr th:only-of-type {\n",
              "        vertical-align: middle;\n",
              "    }\n",
              "\n",
              "    .dataframe tbody tr th {\n",
              "        vertical-align: top;\n",
              "    }\n",
              "\n",
              "    .dataframe thead th {\n",
              "        text-align: right;\n",
              "    }\n",
              "</style>\n",
              "<table border=\"1\" class=\"dataframe\">\n",
              "  <thead>\n",
              "    <tr style=\"text-align: right;\">\n",
              "      <th></th>\n",
              "      <th>age</th>\n",
              "      <th>job</th>\n",
              "      <th>marital</th>\n",
              "      <th>education</th>\n",
              "      <th>default</th>\n",
              "      <th>housing</th>\n",
              "      <th>loan</th>\n",
              "      <th>contact</th>\n",
              "      <th>month</th>\n",
              "      <th>day_of_week</th>\n",
              "      <th>...</th>\n",
              "      <th>campaign</th>\n",
              "      <th>pdays</th>\n",
              "      <th>previous</th>\n",
              "      <th>poutcome</th>\n",
              "      <th>emp.var.rate</th>\n",
              "      <th>cons.price.idx</th>\n",
              "      <th>cons.conf.idx</th>\n",
              "      <th>euribor3m</th>\n",
              "      <th>nr.employed</th>\n",
              "      <th>y</th>\n",
              "    </tr>\n",
              "  </thead>\n",
              "  <tbody>\n",
              "    <tr>\n",
              "      <th>0</th>\n",
              "      <td>56</td>\n",
              "      <td>3</td>\n",
              "      <td>1</td>\n",
              "      <td>0</td>\n",
              "      <td>0</td>\n",
              "      <td>0</td>\n",
              "      <td>0</td>\n",
              "      <td>1</td>\n",
              "      <td>6</td>\n",
              "      <td>1</td>\n",
              "      <td>...</td>\n",
              "      <td>1</td>\n",
              "      <td>999</td>\n",
              "      <td>0</td>\n",
              "      <td>1</td>\n",
              "      <td>1.1</td>\n",
              "      <td>93.994</td>\n",
              "      <td>-36.4</td>\n",
              "      <td>4.857</td>\n",
              "      <td>5191.0</td>\n",
              "      <td>0</td>\n",
              "    </tr>\n",
              "    <tr>\n",
              "      <th>1</th>\n",
              "      <td>57</td>\n",
              "      <td>7</td>\n",
              "      <td>1</td>\n",
              "      <td>3</td>\n",
              "      <td>1</td>\n",
              "      <td>0</td>\n",
              "      <td>0</td>\n",
              "      <td>1</td>\n",
              "      <td>6</td>\n",
              "      <td>1</td>\n",
              "      <td>...</td>\n",
              "      <td>1</td>\n",
              "      <td>999</td>\n",
              "      <td>0</td>\n",
              "      <td>1</td>\n",
              "      <td>1.1</td>\n",
              "      <td>93.994</td>\n",
              "      <td>-36.4</td>\n",
              "      <td>4.857</td>\n",
              "      <td>5191.0</td>\n",
              "      <td>0</td>\n",
              "    </tr>\n",
              "    <tr>\n",
              "      <th>2</th>\n",
              "      <td>37</td>\n",
              "      <td>7</td>\n",
              "      <td>1</td>\n",
              "      <td>3</td>\n",
              "      <td>0</td>\n",
              "      <td>2</td>\n",
              "      <td>0</td>\n",
              "      <td>1</td>\n",
              "      <td>6</td>\n",
              "      <td>1</td>\n",
              "      <td>...</td>\n",
              "      <td>1</td>\n",
              "      <td>999</td>\n",
              "      <td>0</td>\n",
              "      <td>1</td>\n",
              "      <td>1.1</td>\n",
              "      <td>93.994</td>\n",
              "      <td>-36.4</td>\n",
              "      <td>4.857</td>\n",
              "      <td>5191.0</td>\n",
              "      <td>0</td>\n",
              "    </tr>\n",
              "    <tr>\n",
              "      <th>3</th>\n",
              "      <td>40</td>\n",
              "      <td>0</td>\n",
              "      <td>1</td>\n",
              "      <td>1</td>\n",
              "      <td>0</td>\n",
              "      <td>0</td>\n",
              "      <td>0</td>\n",
              "      <td>1</td>\n",
              "      <td>6</td>\n",
              "      <td>1</td>\n",
              "      <td>...</td>\n",
              "      <td>1</td>\n",
              "      <td>999</td>\n",
              "      <td>0</td>\n",
              "      <td>1</td>\n",
              "      <td>1.1</td>\n",
              "      <td>93.994</td>\n",
              "      <td>-36.4</td>\n",
              "      <td>4.857</td>\n",
              "      <td>5191.0</td>\n",
              "      <td>0</td>\n",
              "    </tr>\n",
              "    <tr>\n",
              "      <th>4</th>\n",
              "      <td>56</td>\n",
              "      <td>7</td>\n",
              "      <td>1</td>\n",
              "      <td>3</td>\n",
              "      <td>0</td>\n",
              "      <td>0</td>\n",
              "      <td>2</td>\n",
              "      <td>1</td>\n",
              "      <td>6</td>\n",
              "      <td>1</td>\n",
              "      <td>...</td>\n",
              "      <td>1</td>\n",
              "      <td>999</td>\n",
              "      <td>0</td>\n",
              "      <td>1</td>\n",
              "      <td>1.1</td>\n",
              "      <td>93.994</td>\n",
              "      <td>-36.4</td>\n",
              "      <td>4.857</td>\n",
              "      <td>5191.0</td>\n",
              "      <td>0</td>\n",
              "    </tr>\n",
              "  </tbody>\n",
              "</table>\n",
              "<p>5 rows × 21 columns</p>\n",
              "</div>"
            ],
            "text/plain": [
              "   age  job  marital  education  default  housing  loan  contact  month  \\\n",
              "0   56    3        1          0        0        0     0        1      6   \n",
              "1   57    7        1          3        1        0     0        1      6   \n",
              "2   37    7        1          3        0        2     0        1      6   \n",
              "3   40    0        1          1        0        0     0        1      6   \n",
              "4   56    7        1          3        0        0     2        1      6   \n",
              "\n",
              "   day_of_week  ...  campaign  pdays  previous  poutcome  emp.var.rate  \\\n",
              "0            1  ...         1    999         0         1           1.1   \n",
              "1            1  ...         1    999         0         1           1.1   \n",
              "2            1  ...         1    999         0         1           1.1   \n",
              "3            1  ...         1    999         0         1           1.1   \n",
              "4            1  ...         1    999         0         1           1.1   \n",
              "\n",
              "   cons.price.idx  cons.conf.idx  euribor3m  nr.employed  y  \n",
              "0          93.994          -36.4      4.857       5191.0  0  \n",
              "1          93.994          -36.4      4.857       5191.0  0  \n",
              "2          93.994          -36.4      4.857       5191.0  0  \n",
              "3          93.994          -36.4      4.857       5191.0  0  \n",
              "4          93.994          -36.4      4.857       5191.0  0  \n",
              "\n",
              "[5 rows x 21 columns]"
            ]
          },
          "metadata": {
            "tags": []
          },
          "execution_count": 24
        }
      ]
    },
    {
      "cell_type": "code",
      "metadata": {
        "colab_type": "code",
        "id": "gtCNIWialX6k",
        "colab": {},
        "outputId": "61703c40-a8a5-488a-bc8c-179027062fff"
      },
      "source": [
        "x = bank_data.iloc[:,0:20]\n",
        "y = bank_data.iloc[:,20:21]\n",
        "y.shape"
      ],
      "execution_count": 0,
      "outputs": [
        {
          "output_type": "execute_result",
          "data": {
            "text/plain": [
              "(41188, 1)"
            ]
          },
          "metadata": {
            "tags": []
          },
          "execution_count": 25
        }
      ]
    },
    {
      "cell_type": "markdown",
      "metadata": {
        "colab_type": "text",
        "id": "7-asSOpptF6j"
      },
      "source": [
        "Now as the data is converted to similar format. Let's do the first task, that is to hold the 30% amount of data for testing purpose i.e. in the vault which we will use later on to check the generalization error"
      ]
    },
    {
      "cell_type": "code",
      "metadata": {
        "colab_type": "code",
        "id": "WBBLj9v6lhd2",
        "colab": {},
        "outputId": "ce9f2351-597b-409a-e4c5-8751dfc1b6b7"
      },
      "source": [
        "x_train, x_test, y_train, y_test = train_test_split(x,y, test_size = 0.3, random_state = 123)\n",
        "y_train = y_train.values\n",
        "x_train = x_train.values\n",
        "y_train.shape"
      ],
      "execution_count": 0,
      "outputs": [
        {
          "output_type": "execute_result",
          "data": {
            "text/plain": [
              "(28831, 1)"
            ]
          },
          "metadata": {
            "tags": []
          },
          "execution_count": 26
        }
      ]
    },
    {
      "cell_type": "code",
      "metadata": {
        "colab_type": "code",
        "id": "e9MCN7q9x2D_",
        "colab": {}
      },
      "source": [
        "class DummyScaler:\n",
        "    def fit(self, data):\n",
        "        pass\n",
        "    def transform(self, data):\n",
        "        return data\n",
        "def create_scaler_dummy():\n",
        "    return DummyScaler()    \n",
        "def create_scaler_standard():\n",
        "    return StandardScaler()\n",
        "def create_scaler_minmax():\n",
        "    return MinMaxScaler()\n",
        "def crete_scaler_binarizer():\n",
        "    return Binarizer()"
      ],
      "execution_count": 0,
      "outputs": []
    },
    {
      "cell_type": "markdown",
      "metadata": {
        "colab_type": "text",
        "id": "HjteVYQOzZrQ"
      },
      "source": [
        "Now, we can build the decision tree classifier using our training data as follows:"
      ]
    },
    {
      "cell_type": "code",
      "metadata": {
        "colab_type": "code",
        "id": "uPLGCKDVlkuW",
        "colab": {}
      },
      "source": [
        "def create_plot_dt(_X, _y):\n",
        "    x_train, y_train = _X, _y\n",
        "    def plot_dt(max_depth=1, min_samples_split=2, expand=3.1):\n",
        "        alpha=0.8\n",
        "        model = DecisionTreeClassifier(max_depth=max_depth, \n",
        "                                       min_samples_split=min_samples_split,\n",
        "                                       random_state=123)\n",
        "                                       # class_weight='balanced')\n",
        "        model.fit(x_train, y_train)        \n",
        "        fig, ax2 = plt.subplots(1)\n",
        "        annotations = plot_tree(model, ax=ax2, feature_names= [i for i in list(bank_data.columns) if i != 'y'], filled=True)\n",
        "        for annotation in annotations:\n",
        "            text = annotation.get_text()\n",
        "            vals = text[text.rfind('[') + 1:]\n",
        "            vals = vals[:vals.find(']')]\n",
        "            vals = [float(x) for x in vals.split(',')]\n",
        "            vals_sum = sum(vals)\n",
        "            vals = [x / vals_sum for x in vals]\n",
        "            annotation.set_color('w')\n",
        "            # annotation.set_backgroundcolor(vals)\n",
        "            plt.show()\n",
        "\n",
        "    return plot_dt"
      ],
      "execution_count": 0,
      "outputs": []
    },
    {
      "cell_type": "markdown",
      "metadata": {
        "colab_type": "text",
        "id": "PhFqlSRlzt2S"
      },
      "source": [
        "The real time effect of changing the parameters can be understood by using the widgets as follows:"
      ]
    },
    {
      "cell_type": "code",
      "metadata": {
        "colab_type": "code",
        "id": "Hq46vs__mBoZ",
        "colab": {},
        "outputId": "36e86062-012b-4ca5-e1dc-b47ca5d36e64"
      },
      "source": [
        "max_depth_widget = widgets.IntSlider(\n",
        "    value=1,\n",
        "    min=1,\n",
        "    max=200,\n",
        "    step=1,\n",
        "    continuous_update=False,\n",
        "    description='Max depth:')\n",
        "min_samples_split_widget = widgets.IntSlider(\n",
        "    value=2,\n",
        "    min=2,\n",
        "    max=20,\n",
        "    step=1,\n",
        "    continuous_update=False,\n",
        "    description='Min Split:')\n",
        "expand_widget = widgets.FloatSlider(\n",
        "    value=0.0,\n",
        "    min=0,\n",
        "    max=1,\n",
        "    step=0.1,\n",
        "    continuous_update=False,\n",
        "    description='Expand:')\n",
        "interact(create_plot_dt(x_train, y_train), \n",
        "         max_depth=max_depth_widget, \n",
        "         min_samples_split=min_samples_split_widget,\n",
        "         expand=expand_widget)"
      ],
      "execution_count": 0,
      "outputs": [
        {
          "output_type": "display_data",
          "data": {
            "application/vnd.jupyter.widget-view+json": {
              "model_id": "144a5c37216c41928bc8d179447a8990",
              "version_major": 2,
              "version_minor": 0
            },
            "text/plain": [
              "interactive(children=(IntSlider(value=1, continuous_update=False, description='Max depth:', max=200, min=1), I…"
            ]
          },
          "metadata": {
            "tags": []
          }
        },
        {
          "output_type": "execute_result",
          "data": {
            "text/plain": [
              "<function __main__.create_plot_dt.<locals>.plot_dt(max_depth=1, min_samples_split=2, expand=3.1)>"
            ]
          },
          "metadata": {
            "tags": []
          },
          "execution_count": 29
        }
      ]
    },
    {
      "cell_type": "markdown",
      "metadata": {
        "colab_type": "text",
        "id": "VgeaK3Xm0A6D"
      },
      "source": [
        "Now for the further task of cross validation, we can use the k-fold = 5. The following code also plots the relation of various hyperparameters with accuracy under each fold."
      ]
    },
    {
      "cell_type": "code",
      "metadata": {
        "colab_type": "code",
        "id": "gJikp3UpybsP",
        "colab": {}
      },
      "source": [
        "kfold = KFold(n_splits=5, shuffle=True, random_state=123)\n",
        "# definig yhat array with the no.of rows equal to x_train and 1 column\n",
        "yhat = np.zeros((x_train.shape[0], ))"
      ],
      "execution_count": 0,
      "outputs": []
    },
    {
      "cell_type": "code",
      "metadata": {
        "colab_type": "code",
        "id": "bqtYklGFycbs",
        "colab": {}
      },
      "source": [
        "# K-fold Cross-validation\n",
        "Max_depth = list()\n",
        "List = list()\n",
        "\n",
        "for max_depth in range(1,20):\n",
        "    kfolds = list()\n",
        "    for train, valid in kfold.split(x_train, y_train):\n",
        "        \n",
        "        model = DecisionTreeClassifier(max_depth=max_depth,random_state=123)\n",
        "        model.fit(x_train[train], y_train[train])\n",
        "        yhat[valid] = model.predict(x_train[valid])\n",
        "        score = metrics.accuracy_score(y_train[valid], yhat[valid])\n",
        "        kfolds.append(score)\n",
        "        Max_depth.append(max_depth)\n",
        "\n",
        "    List.append(kfolds)"
      ],
      "execution_count": 0,
      "outputs": []
    },
    {
      "cell_type": "code",
      "metadata": {
        "colab_type": "code",
        "id": "aqgsSwBsyfot",
        "colab": {},
        "outputId": "1a46db14-d800-4350-aaaf-da04fc42c427"
      },
      "source": [
        "print(List)"
      ],
      "execution_count": 0,
      "outputs": [
        {
          "output_type": "stream",
          "text": [
            "[[0.8876365528004162, 0.8822407214706902, 0.8900450919181409, 0.891605966007631, 0.8858827610128338], [0.9020287844633258, 0.8985431841831426, 0.9051335414498786, 0.9113770378078391, 0.9011446409989594], [0.907230795907751, 0.9051335414498786, 0.9096427332639612, 0.9183142559833507, 0.9058272632674298], [0.9098318016299636, 0.9068678459937565, 0.913111342351717, 0.9179673950745751, 0.9061741241762054], [0.9139934107855038, 0.9086021505376344, 0.9136316337148803, 0.9219562955254943, 0.9049601109954908], [0.914860412692908, 0.9091224419007978, 0.915539368713146, 0.9183142559833507, 0.9077349982656955], [0.9110456043003294, 0.909816163718349, 0.9117238987166146, 0.9200485605272286, 0.905653832813042], [0.9106988035373678, 0.9086021505376344, 0.9124176205341658, 0.9160596600763093, 0.9084287200832466], [0.9084445985781169, 0.908081859174471, 0.9112036073534513, 0.9160596600763093, 0.9084287200832466], [0.905149991329981, 0.9054804023586542, 0.9112036073534513, 0.9099895941727367, 0.9021852237252862], [0.9023755852262875, 0.902358654179674, 0.9091224419007978, 0.9087755809920222, 0.9033992369060007], [0.9008149817929599, 0.9042663891779397, 0.9061741241762054, 0.908081859174471, 0.8994103364550815], [0.8947459684411305, 0.8985431841831426, 0.9040929587235519, 0.9027055150884495, 0.8954214360041624], [0.8943991676781688, 0.8983697537287547, 0.8988900450919182, 0.9011446409989594, 0.8945542837322233], [0.8912779608115138, 0.8952480055497746, 0.9006243496357961, 0.902358654179674, 0.8952480055497746], [0.8893705566152246, 0.8898716614637531, 0.8931668400971211, 0.8947277141866111, 0.8931668400971211], [0.8876365528004162, 0.8931668400971211, 0.8985431841831426, 0.894901144640999, 0.8905653832813042], [0.8864227501300503, 0.891605966007631, 0.8924731182795699, 0.8928199791883454, 0.886576482830385], [0.8859025489856077, 0.8922996878251821, 0.89403399236906, 0.8936871314602844, 0.8912591050988553]]\n"
          ],
          "name": "stdout"
        }
      ]
    },
    {
      "cell_type": "code",
      "metadata": {
        "colab_type": "code",
        "id": "Bi0myohVyiID",
        "colab": {},
        "outputId": "2f76f606-2884-4bbd-b400-ced0fed2dc7a"
      },
      "source": [
        "for i, value in enumerate(List):\n",
        "    plt.plot(value, label=i+1)\n",
        "    plt.legend()\n",
        "    plt.text(0, value[0], i+1)\n",
        "    plt.xlabel(\"Fold Value\")\n",
        "    plt.ylabel(\"Accuracy\")\n",
        "plt.savefig('figQ1.png')\n",
        "plt.show()"
      ],
      "execution_count": 0,
      "outputs": [
        {
          "output_type": "display_data",
          "data": {
            "image/png": "[encoded data removed]",
            "text/plain": [
              "<Figure size 432x432 with 1 Axes>"
            ]
          },
          "metadata": {
            "tags": [],
            "needs_background": "light"
          }
        }
      ]
    },
    {
      "cell_type": "code",
      "metadata": {
        "colab_type": "code",
        "id": "K7fVDECRykWi",
        "colab": {}
      },
      "source": [
        "# K-fold Cross-validation\n",
        "Min_Sample_Split = list()\n",
        "List = list()\n",
        "\n",
        "for min_split in range(2,20):\n",
        "    kfolds = list()\n",
        "    for train, valid in kfold.split(x_train, y_train):\n",
        "        \n",
        "        model = DecisionTreeClassifier(max_depth=5, min_samples_split=min_split,random_state=123)\n",
        "        model.fit(x_train[train], y_train[train])\n",
        "        yhat[valid] = model.predict(x_train[valid])\n",
        "        score = metrics.accuracy_score(y_train[valid], yhat[valid])\n",
        "        kfolds.append(score)\n",
        "        Min_Sample_Split.append(min_split)\n",
        "\n",
        "    List.append(kfolds)"
      ],
      "execution_count": 0,
      "outputs": []
    },
    {
      "cell_type": "code",
      "metadata": {
        "colab_type": "code",
        "id": "HRwUv1oyynT-",
        "colab": {}
      },
      "source": [
        "for i, value in enumerate(List):\n",
        "    plt.plot(value, label=i+1)\n",
        "    plt.legend()\n",
        "    plt.text(0, value[0], i+1)\n",
        "    plt.xlabel(\"Fold Value\")\n",
        "    plt.ylabel(\"Accuracy\")\n",
        "plt.savefig('figQ1.png')\n",
        "plt.show()"
      ],
      "execution_count": 0,
      "outputs": []
    },
    {
      "cell_type": "markdown",
      "metadata": {
        "id": "ON1sytbQ8li3",
        "colab_type": "text"
      },
      "source": [
        "We can also use grid Search to find out the best paramters from the given ranges."
      ]
    },
    {
      "cell_type": "code",
      "metadata": {
        "colab_type": "code",
        "id": "Y6B2LcYNypzB",
        "colab": {},
        "outputId": "29546cce-eb32-4221-d084-f7e31c8c4f58"
      },
      "source": [
        "from sklearn.model_selection import GridSearchCV\n",
        "\n",
        "# parameter = { 'criterion':['gini','entropy'],'max_depth':range(1,20)}\n",
        "parameter = [{'criterion': ['entropy', 'gini'], 'max_depth': range(1,20), 'min_samples_split': range(2,20)}]\n",
        "               \n",
        "#parameter = {'criterion':['gini','entropy'],'max_depth':[1,2,3,4,5,6,7,8,9,10,11,12,15,20,30,40,50,70,90,120,150,200]}\n",
        "# decision tree model\n",
        "dt_model=DecisionTreeClassifier()\n",
        "\n",
        "#use gridsearch to test all values with Kfold\n",
        "dt_gscv = GridSearchCV(dt_model, parameter, cv=5)\n",
        "    \n",
        "#fit model to data\n",
        "dt_gscv.fit(x_train[train], y_train[train])\n",
        "tree_model = dt_gscv.best_estimator_\n",
        "print (\"Accuracy is:\",dt_gscv.best_score_, dt_gscv.best_params_)\n",
        "print(dt_gscv.best_estimator_)"
      ],
      "execution_count": 0,
      "outputs": [
        {
          "output_type": "stream",
          "text": [
            "Accuracy is: 0.9133318881422068 {'criterion': 'entropy', 'max_depth': 5, 'min_samples_split': 5}\n",
            "DecisionTreeClassifier(class_weight=None, criterion='entropy', max_depth=5,\n",
            "                       max_features=None, max_leaf_nodes=None,\n",
            "                       min_impurity_decrease=0.0, min_impurity_split=None,\n",
            "                       min_samples_leaf=1, min_samples_split=5,\n",
            "                       min_weight_fraction_leaf=0.0, presort=False,\n",
            "                       random_state=None, splitter='best')\n"
          ],
          "name": "stdout"
        }
      ]
    },
    {
      "cell_type": "code",
      "metadata": {
        "colab_type": "code",
        "id": "YeYUYFh9ytdm",
        "colab": {}
      },
      "source": [
        "for train, valid in kfold.split(x_train, y_train):\n",
        "    model = DecisionTreeClassifier(max_depth=5,random_state=123)\n",
        "    model.fit(x_train[train], y_train[train])\n",
        "ypred = model.predict(x_test)"
      ],
      "execution_count": 0,
      "outputs": []
    },
    {
      "cell_type": "code",
      "metadata": {
        "colab_type": "code",
        "id": "HiBKbj1eyv5Z",
        "colab": {},
        "outputId": "d63e78ec-ec4d-42a0-e0c4-ace8790d6453"
      },
      "source": [
        "a = metrics.accuracy_score(y_test, ypred)\n",
        "print(\"Accuracy of test data is:\",a)"
      ],
      "execution_count": 0,
      "outputs": [
        {
          "output_type": "stream",
          "text": [
            "Accuracy of test data is: 0.9121955167111758\n"
          ],
          "name": "stdout"
        }
      ]
    },
    {
      "cell_type": "code",
      "metadata": {
        "colab_type": "code",
        "id": "YcawGoVQyyGr",
        "colab": {},
        "outputId": "f4b91fab-b483-49f3-9de1-0032d2686d10"
      },
      "source": [
        "print(\"Generalization error is\", 1-a)"
      ],
      "execution_count": 0,
      "outputs": [
        {
          "output_type": "stream",
          "text": [
            "Generalization error is 0.08780448328882418\n"
          ],
          "name": "stdout"
        }
      ]
    },
    {
      "cell_type": "code",
      "metadata": {
        "colab_type": "code",
        "id": "DDQhde9uy0x2",
        "colab": {},
        "outputId": "153cca0f-ee3a-415b-ec93-27f2559dc000"
      },
      "source": [
        "model.fit(x_train, y_train) \n",
        "y_pred = model.predict(x_test)\n",
        "accuracy_score(y_test, y_pred)"
      ],
      "execution_count": 0,
      "outputs": [
        {
          "output_type": "execute_result",
          "data": {
            "text/plain": [
              "0.9134903293679696"
            ]
          },
          "metadata": {
            "tags": []
          },
          "execution_count": 40
        }
      ]
    },
    {
      "cell_type": "code",
      "metadata": {
        "colab_type": "code",
        "id": "UNr7zlWwy3Ek",
        "colab": {},
        "outputId": "8176d605-e798-49fd-9a93-7c4af119ce65"
      },
      "source": [
        "print('Classification report:')\n",
        "print(metrics.classification_report(y_test, ypred))"
      ],
      "execution_count": 0,
      "outputs": [
        {
          "output_type": "stream",
          "text": [
            "Classification report:\n",
            "              precision    recall  f1-score   support\n",
            "\n",
            "           0       0.93      0.97      0.95     10961\n",
            "           1       0.66      0.45      0.54      1396\n",
            "\n",
            "    accuracy                           0.91     12357\n",
            "   macro avg       0.80      0.71      0.74     12357\n",
            "weighted avg       0.90      0.91      0.90     12357\n",
            "\n"
          ],
          "name": "stdout"
        }
      ]
    },
    {
      "cell_type": "code",
      "metadata": {
        "colab_type": "code",
        "id": "swJXy3CSy5ZT",
        "colab": {}
      },
      "source": [
        "ypred = pd.DataFrame(ypred)\n",
        "y_test = pd.DataFrame(y_test)\n",
        "ypred = ypred.values.flatten()\n",
        "y_test = y_test.values.flatten()"
      ],
      "execution_count": 0,
      "outputs": []
    },
    {
      "cell_type": "code",
      "metadata": {
        "colab_type": "code",
        "id": "PUFY1szAy781",
        "colab": {},
        "outputId": "7a871ae3-93a3-4d2f-8332-969049008db6"
      },
      "source": [
        "from pandas_ml import ConfusionMatrix\n",
        "print('Confusion matrix:')\n",
        "cm = ConfusionMatrix(y_test, ypred)\n",
        "print(cm)\n",
        "print('Stats:')\n",
        "cm.print_stats()\n",
        "ax = cm.plot(backend='seaborn', annot=True, fmt='g')\n",
        "ax.set_title('Confusion Matrix')\n",
        "plt.show()\n",
        "plt.clf()"
      ],
      "execution_count": 0,
      "outputs": [
        {
          "output_type": "stream",
          "text": [
            "Confusion matrix:\n",
            "Predicted  False  True  __all__\n",
            "Actual                         \n",
            "False      10639   322    10961\n",
            "True         763   633     1396\n",
            "__all__    11402   955    12357\n",
            "Stats:\n",
            "population: 12357\n",
            "P: 1396\n",
            "N: 10961\n",
            "PositiveTest: 955\n",
            "NegativeTest: 11402\n",
            "TP: 633\n",
            "TN: 10639\n",
            "FP: 322\n",
            "FN: 763\n",
            "TPR: 0.45343839541547276\n",
            "TNR: 0.9706231183286197\n",
            "PPV: 0.6628272251308901\n",
            "NPV: 0.9330819154534292\n",
            "FPR: 0.029376881671380348\n",
            "FDR: 0.33717277486910996\n",
            "FNR: 0.5465616045845272\n",
            "ACC: 0.9121955167111758\n",
            "F1_score: 0.5384942577626541\n",
            "MCC: 0.5026948698864229\n",
            "informedness: 0.4240615137440924\n",
            "markedness: 0.5959091405843193\n",
            "prevalence: 0.11297240430525209\n",
            "LRP: 15.435211963195643\n",
            "LRN: 0.5631038394445909\n",
            "DOR: 27.41095137696084\n",
            "FOR: 0.06691808454657078\n"
          ],
          "name": "stdout"
        },
        {
          "output_type": "display_data",
          "data": {
            "image/png": "[encoded data removed]",
            "text/plain": [
              "<Figure size 432x432 with 2 Axes>"
            ]
          },
          "metadata": {
            "tags": [],
            "needs_background": "light"
          }
        },
        {
          "output_type": "display_data",
          "data": {
            "text/plain": [
              "<Figure size 432x432 with 0 Axes>"
            ]
          },
          "metadata": {
            "tags": []
          }
        }
      ]
    }
  ]
}