{
  "nbformat": 4,
  "nbformat_minor": 0,
  "metadata": {
    "kernelspec": {
      "display_name": "Python 3",
      "language": "python",
      "name": "python3"
    },
    "language_info": {
      "codemirror_mode": {
        "name": "ipython",
        "version": 3
      },
      "file_extension": ".py",
      "mimetype": "text/x-python",
      "name": "python",
      "nbconvert_exporter": "python",
      "pygments_lexer": "ipython3",
      "version": "3.7.4"
    },
    "colab": {
      "name": "Mini_Project_3_Final_2.ipynb",
      "provenance": [],
      "collapsed_sections": []
    }
  },
  "cells": [
    {
      "cell_type": "markdown",
      "metadata": {
        "id": "pW5GKYMbARa-",
        "colab_type": "text"
      },
      "source": [
        "**Question 2:**\n",
        "\n",
        "For the data you selected for the first question, use Python to construct an ensemble classifier. You may choose any ensemble classifier.\n",
        "\n",
        "*   Hold back the same 30% of test data as in the first question.\n",
        "*   Select parameters for your ensemble based on the remaining data and attempt to build the best possible model.\n",
        "\n",
        "(a) When your model is complete, compare the error rate on the 30% test data from the ensemble and the best decision tree classifier you obtained in the first question. Compute confusion matrices for the test data from each model and comments on any differences in performance.\n",
        "\n",
        "(b) Which model do you prefer and why? Be brief and clear."
      ]
    },
    {
      "cell_type": "markdown",
      "metadata": {
        "id": "AS4uv9m9AqYr",
        "colab_type": "text"
      },
      "source": [
        "**Solution:**\n",
        "\n",
        "Here, we can use the data used in first question to construct a random forest ensemble. To start with, we load the libraries and packages which will be used in the solution.\n"
      ]
    },
    {
      "cell_type": "code",
      "metadata": {
        "id": "DJoihOm7AFKS",
        "colab_type": "code",
        "colab": {}
      },
      "source": [
        "import pandas as pd\n",
        "import numpy as np\n",
        "# To import the models (Decision Tree Classifier and Regressor)\n",
        "from sklearn.tree import DecisionTreeClassifier, DecisionTreeRegressor\n",
        "from sklearn.ensemble import RandomForestClassifier\n",
        "\n",
        "# To display a tree\n",
        "from sklearn.tree import plot_tree\n",
        "\n",
        "# To measure accuracy\n",
        "from sklearn import metrics, preprocessing, tree\n",
        "\n",
        "from sklearn.model_selection import cross_validate, KFold\n",
        "\n",
        "# To support plots\n",
        "from ipywidgets import interact\n",
        "import ipywidgets as widgets\n",
        "import matplotlib as mpl\n",
        "import matplotlib.pyplot as plt\n",
        "from matplotlib.colors import ListedColormap\n",
        "\n",
        "from IPython.display import Image\n",
        "from pylab import rcParams\n",
        "from sklearn.metrics import f1_score, make_scorer\n",
        "from sklearn.model_selection import cross_val_score\n",
        "from sklearn.model_selection import GridSearchCV\n",
        "from io import StringIO\n",
        "import warnings\n",
        "from sklearn.metrics import accuracy_score\n",
        "from scipy import misc\n",
        "from matplotlib.pyplot import imread\n",
        "from matplotlib.colors import ListedColormap\n",
        "import math\n",
        "\n",
        "# To display all the plots inline\n",
        "%matplotlib inline\n",
        "\n",
        "from sklearn.model_selection import train_test_split\n",
        "from sklearn.linear_model import LinearRegression\n",
        "\n",
        "from sklearn.preprocessing import StandardScaler\n",
        "from sklearn.preprocessing import MinMaxScaler\n",
        "from sklearn.preprocessing import Binarizer\n",
        "import seaborn as sn"
      ],
      "execution_count": 0,
      "outputs": []
    },
    {
      "cell_type": "markdown",
      "metadata": {
        "id": "PGZiZry6DYmO",
        "colab_type": "text"
      },
      "source": [
        "Now, we can load the bank marketing data in the similar way. The data for the problem is loaded below:"
      ]
    },
    {
      "cell_type": "code",
      "metadata": {
        "id": "62gLWhQRAFKX",
        "colab_type": "code",
        "colab": {},
        "outputId": "0b29d314-3612-47ac-c1af-aa5c22af738d"
      },
      "source": [
        "# To load datasets\n",
        "bank_data = pd.read_csv(\"./bank-additional-full.csv\")\n",
        "bank_data.head(5)"
      ],
      "execution_count": 0,
      "outputs": [
        {
          "output_type": "execute_result",
          "data": {
            "text/html": [
              "<div>\n",
              "<style scoped>\n",
              "    .dataframe tbody tr th:only-of-type {\n",
              "        vertical-align: middle;\n",
              "    }\n",
              "\n",
              "    .dataframe tbody tr th {\n",
              "        vertical-align: top;\n",
              "    }\n",
              "\n",
              "    .dataframe thead th {\n",
              "        text-align: right;\n",
              "    }\n",
              "</style>\n",
              "<table border=\"1\" class=\"dataframe\">\n",
              "  <thead>\n",
              "    <tr style=\"text-align: right;\">\n",
              "      <th></th>\n",
              "      <th>age</th>\n",
              "      <th>job</th>\n",
              "      <th>marital</th>\n",
              "      <th>education</th>\n",
              "      <th>default</th>\n",
              "      <th>housing</th>\n",
              "      <th>loan</th>\n",
              "      <th>contact</th>\n",
              "      <th>month</th>\n",
              "      <th>day_of_week</th>\n",
              "      <th>...</th>\n",
              "      <th>campaign</th>\n",
              "      <th>pdays</th>\n",
              "      <th>previous</th>\n",
              "      <th>poutcome</th>\n",
              "      <th>emp.var.rate</th>\n",
              "      <th>cons.price.idx</th>\n",
              "      <th>cons.conf.idx</th>\n",
              "      <th>euribor3m</th>\n",
              "      <th>nr.employed</th>\n",
              "      <th>y</th>\n",
              "    </tr>\n",
              "  </thead>\n",
              "  <tbody>\n",
              "    <tr>\n",
              "      <th>0</th>\n",
              "      <td>56</td>\n",
              "      <td>housemaid</td>\n",
              "      <td>married</td>\n",
              "      <td>basic.4y</td>\n",
              "      <td>no</td>\n",
              "      <td>no</td>\n",
              "      <td>no</td>\n",
              "      <td>telephone</td>\n",
              "      <td>may</td>\n",
              "      <td>mon</td>\n",
              "      <td>...</td>\n",
              "      <td>1</td>\n",
              "      <td>999</td>\n",
              "      <td>0</td>\n",
              "      <td>nonexistent</td>\n",
              "      <td>1.1</td>\n",
              "      <td>93.994</td>\n",
              "      <td>-36.4</td>\n",
              "      <td>4.857</td>\n",
              "      <td>5191.0</td>\n",
              "      <td>no</td>\n",
              "    </tr>\n",
              "    <tr>\n",
              "      <th>1</th>\n",
              "      <td>57</td>\n",
              "      <td>services</td>\n",
              "      <td>married</td>\n",
              "      <td>high.school</td>\n",
              "      <td>unknown</td>\n",
              "      <td>no</td>\n",
              "      <td>no</td>\n",
              "      <td>telephone</td>\n",
              "      <td>may</td>\n",
              "      <td>mon</td>\n",
              "      <td>...</td>\n",
              "      <td>1</td>\n",
              "      <td>999</td>\n",
              "      <td>0</td>\n",
              "      <td>nonexistent</td>\n",
              "      <td>1.1</td>\n",
              "      <td>93.994</td>\n",
              "      <td>-36.4</td>\n",
              "      <td>4.857</td>\n",
              "      <td>5191.0</td>\n",
              "      <td>no</td>\n",
              "    </tr>\n",
              "    <tr>\n",
              "      <th>2</th>\n",
              "      <td>37</td>\n",
              "      <td>services</td>\n",
              "      <td>married</td>\n",
              "      <td>high.school</td>\n",
              "      <td>no</td>\n",
              "      <td>yes</td>\n",
              "      <td>no</td>\n",
              "      <td>telephone</td>\n",
              "      <td>may</td>\n",
              "      <td>mon</td>\n",
              "      <td>...</td>\n",
              "      <td>1</td>\n",
              "      <td>999</td>\n",
              "      <td>0</td>\n",
              "      <td>nonexistent</td>\n",
              "      <td>1.1</td>\n",
              "      <td>93.994</td>\n",
              "      <td>-36.4</td>\n",
              "      <td>4.857</td>\n",
              "      <td>5191.0</td>\n",
              "      <td>no</td>\n",
              "    </tr>\n",
              "    <tr>\n",
              "      <th>3</th>\n",
              "      <td>40</td>\n",
              "      <td>admin.</td>\n",
              "      <td>married</td>\n",
              "      <td>basic.6y</td>\n",
              "      <td>no</td>\n",
              "      <td>no</td>\n",
              "      <td>no</td>\n",
              "      <td>telephone</td>\n",
              "      <td>may</td>\n",
              "      <td>mon</td>\n",
              "      <td>...</td>\n",
              "      <td>1</td>\n",
              "      <td>999</td>\n",
              "      <td>0</td>\n",
              "      <td>nonexistent</td>\n",
              "      <td>1.1</td>\n",
              "      <td>93.994</td>\n",
              "      <td>-36.4</td>\n",
              "      <td>4.857</td>\n",
              "      <td>5191.0</td>\n",
              "      <td>no</td>\n",
              "    </tr>\n",
              "    <tr>\n",
              "      <th>4</th>\n",
              "      <td>56</td>\n",
              "      <td>services</td>\n",
              "      <td>married</td>\n",
              "      <td>high.school</td>\n",
              "      <td>no</td>\n",
              "      <td>no</td>\n",
              "      <td>yes</td>\n",
              "      <td>telephone</td>\n",
              "      <td>may</td>\n",
              "      <td>mon</td>\n",
              "      <td>...</td>\n",
              "      <td>1</td>\n",
              "      <td>999</td>\n",
              "      <td>0</td>\n",
              "      <td>nonexistent</td>\n",
              "      <td>1.1</td>\n",
              "      <td>93.994</td>\n",
              "      <td>-36.4</td>\n",
              "      <td>4.857</td>\n",
              "      <td>5191.0</td>\n",
              "      <td>no</td>\n",
              "    </tr>\n",
              "  </tbody>\n",
              "</table>\n",
              "<p>5 rows × 21 columns</p>\n",
              "</div>"
            ],
            "text/plain": [
              "   age        job  marital    education  default housing loan    contact  \\\n",
              "0   56  housemaid  married     basic.4y       no      no   no  telephone   \n",
              "1   57   services  married  high.school  unknown      no   no  telephone   \n",
              "2   37   services  married  high.school       no     yes   no  telephone   \n",
              "3   40     admin.  married     basic.6y       no      no   no  telephone   \n",
              "4   56   services  married  high.school       no      no  yes  telephone   \n",
              "\n",
              "  month day_of_week  ...  campaign  pdays  previous     poutcome emp.var.rate  \\\n",
              "0   may         mon  ...         1    999         0  nonexistent          1.1   \n",
              "1   may         mon  ...         1    999         0  nonexistent          1.1   \n",
              "2   may         mon  ...         1    999         0  nonexistent          1.1   \n",
              "3   may         mon  ...         1    999         0  nonexistent          1.1   \n",
              "4   may         mon  ...         1    999         0  nonexistent          1.1   \n",
              "\n",
              "   cons.price.idx  cons.conf.idx  euribor3m  nr.employed   y  \n",
              "0          93.994          -36.4      4.857       5191.0  no  \n",
              "1          93.994          -36.4      4.857       5191.0  no  \n",
              "2          93.994          -36.4      4.857       5191.0  no  \n",
              "3          93.994          -36.4      4.857       5191.0  no  \n",
              "4          93.994          -36.4      4.857       5191.0  no  \n",
              "\n",
              "[5 rows x 21 columns]"
            ]
          },
          "metadata": {
            "tags": []
          },
          "execution_count": 55
        }
      ]
    },
    {
      "cell_type": "code",
      "metadata": {
        "id": "2ilRfEq2AFKb",
        "colab_type": "code",
        "colab": {}
      },
      "source": [
        "bank_data[\"job\"] = bank_data[\"job\"].astype('category')\n",
        "bank_data[\"marital\"] = bank_data[\"marital\"].astype('category')\n",
        "bank_data[\"education\"] = bank_data[\"education\"].astype('category')\n",
        "bank_data[\"default\"] = bank_data[\"default\"].astype('category')\n",
        "bank_data[\"housing\"] = bank_data[\"housing\"].astype('category')\n",
        "bank_data[\"loan\"] = bank_data[\"loan\"].astype('category')\n",
        "bank_data[\"contact\"] = bank_data[\"contact\"].astype('category')\n",
        "bank_data[\"month\"] = bank_data[\"month\"].astype('category')\n",
        "bank_data[\"day_of_week\"] = bank_data[\"day_of_week\"].astype('category')\n",
        "bank_data[\"poutcome\"] = bank_data[\"poutcome\"].astype('category')\n",
        "bank_data[\"y\"] = bank_data[\"y\"].astype('category')"
      ],
      "execution_count": 0,
      "outputs": []
    },
    {
      "cell_type": "code",
      "metadata": {
        "id": "Bp8nNQeyAFKd",
        "colab_type": "code",
        "colab": {},
        "outputId": "5eb5c07b-6126-41a2-cd0c-8ad5d0c3c439"
      },
      "source": [
        "bank_data[\"job\"] = bank_data[\"job\"].cat.codes\n",
        "bank_data[\"marital\"] = bank_data[\"marital\"].cat.codes\n",
        "bank_data[\"education\"] = bank_data[\"education\"].cat.codes\n",
        "bank_data[\"default\"] = bank_data[\"default\"].cat.codes\n",
        "bank_data[\"housing\"] = bank_data[\"housing\"].cat.codes\n",
        "bank_data[\"loan\"] = bank_data[\"loan\"].cat.codes\n",
        "bank_data[\"contact\"] = bank_data[\"contact\"].cat.codes\n",
        "bank_data[\"month\"] = bank_data[\"month\"].cat.codes\n",
        "bank_data[\"day_of_week\"] = bank_data[\"day_of_week\"].cat.codes\n",
        "bank_data[\"poutcome\"] = bank_data[\"poutcome\"].cat.codes\n",
        "bank_data[\"y\"] = bank_data[\"y\"].cat.codes\n",
        "\n",
        "bank_data.head(5)"
      ],
      "execution_count": 0,
      "outputs": [
        {
          "output_type": "execute_result",
          "data": {
            "text/html": [
              "<div>\n",
              "<style scoped>\n",
              "    .dataframe tbody tr th:only-of-type {\n",
              "        vertical-align: middle;\n",
              "    }\n",
              "\n",
              "    .dataframe tbody tr th {\n",
              "        vertical-align: top;\n",
              "    }\n",
              "\n",
              "    .dataframe thead th {\n",
              "        text-align: right;\n",
              "    }\n",
              "</style>\n",
              "<table border=\"1\" class=\"dataframe\">\n",
              "  <thead>\n",
              "    <tr style=\"text-align: right;\">\n",
              "      <th></th>\n",
              "      <th>age</th>\n",
              "      <th>job</th>\n",
              "      <th>marital</th>\n",
              "      <th>education</th>\n",
              "      <th>default</th>\n",
              "      <th>housing</th>\n",
              "      <th>loan</th>\n",
              "      <th>contact</th>\n",
              "      <th>month</th>\n",
              "      <th>day_of_week</th>\n",
              "      <th>...</th>\n",
              "      <th>campaign</th>\n",
              "      <th>pdays</th>\n",
              "      <th>previous</th>\n",
              "      <th>poutcome</th>\n",
              "      <th>emp.var.rate</th>\n",
              "      <th>cons.price.idx</th>\n",
              "      <th>cons.conf.idx</th>\n",
              "      <th>euribor3m</th>\n",
              "      <th>nr.employed</th>\n",
              "      <th>y</th>\n",
              "    </tr>\n",
              "  </thead>\n",
              "  <tbody>\n",
              "    <tr>\n",
              "      <th>0</th>\n",
              "      <td>56</td>\n",
              "      <td>3</td>\n",
              "      <td>1</td>\n",
              "      <td>0</td>\n",
              "      <td>0</td>\n",
              "      <td>0</td>\n",
              "      <td>0</td>\n",
              "      <td>1</td>\n",
              "      <td>6</td>\n",
              "      <td>1</td>\n",
              "      <td>...</td>\n",
              "      <td>1</td>\n",
              "      <td>999</td>\n",
              "      <td>0</td>\n",
              "      <td>1</td>\n",
              "      <td>1.1</td>\n",
              "      <td>93.994</td>\n",
              "      <td>-36.4</td>\n",
              "      <td>4.857</td>\n",
              "      <td>5191.0</td>\n",
              "      <td>0</td>\n",
              "    </tr>\n",
              "    <tr>\n",
              "      <th>1</th>\n",
              "      <td>57</td>\n",
              "      <td>7</td>\n",
              "      <td>1</td>\n",
              "      <td>3</td>\n",
              "      <td>1</td>\n",
              "      <td>0</td>\n",
              "      <td>0</td>\n",
              "      <td>1</td>\n",
              "      <td>6</td>\n",
              "      <td>1</td>\n",
              "      <td>...</td>\n",
              "      <td>1</td>\n",
              "      <td>999</td>\n",
              "      <td>0</td>\n",
              "      <td>1</td>\n",
              "      <td>1.1</td>\n",
              "      <td>93.994</td>\n",
              "      <td>-36.4</td>\n",
              "      <td>4.857</td>\n",
              "      <td>5191.0</td>\n",
              "      <td>0</td>\n",
              "    </tr>\n",
              "    <tr>\n",
              "      <th>2</th>\n",
              "      <td>37</td>\n",
              "      <td>7</td>\n",
              "      <td>1</td>\n",
              "      <td>3</td>\n",
              "      <td>0</td>\n",
              "      <td>2</td>\n",
              "      <td>0</td>\n",
              "      <td>1</td>\n",
              "      <td>6</td>\n",
              "      <td>1</td>\n",
              "      <td>...</td>\n",
              "      <td>1</td>\n",
              "      <td>999</td>\n",
              "      <td>0</td>\n",
              "      <td>1</td>\n",
              "      <td>1.1</td>\n",
              "      <td>93.994</td>\n",
              "      <td>-36.4</td>\n",
              "      <td>4.857</td>\n",
              "      <td>5191.0</td>\n",
              "      <td>0</td>\n",
              "    </tr>\n",
              "    <tr>\n",
              "      <th>3</th>\n",
              "      <td>40</td>\n",
              "      <td>0</td>\n",
              "      <td>1</td>\n",
              "      <td>1</td>\n",
              "      <td>0</td>\n",
              "      <td>0</td>\n",
              "      <td>0</td>\n",
              "      <td>1</td>\n",
              "      <td>6</td>\n",
              "      <td>1</td>\n",
              "      <td>...</td>\n",
              "      <td>1</td>\n",
              "      <td>999</td>\n",
              "      <td>0</td>\n",
              "      <td>1</td>\n",
              "      <td>1.1</td>\n",
              "      <td>93.994</td>\n",
              "      <td>-36.4</td>\n",
              "      <td>4.857</td>\n",
              "      <td>5191.0</td>\n",
              "      <td>0</td>\n",
              "    </tr>\n",
              "    <tr>\n",
              "      <th>4</th>\n",
              "      <td>56</td>\n",
              "      <td>7</td>\n",
              "      <td>1</td>\n",
              "      <td>3</td>\n",
              "      <td>0</td>\n",
              "      <td>0</td>\n",
              "      <td>2</td>\n",
              "      <td>1</td>\n",
              "      <td>6</td>\n",
              "      <td>1</td>\n",
              "      <td>...</td>\n",
              "      <td>1</td>\n",
              "      <td>999</td>\n",
              "      <td>0</td>\n",
              "      <td>1</td>\n",
              "      <td>1.1</td>\n",
              "      <td>93.994</td>\n",
              "      <td>-36.4</td>\n",
              "      <td>4.857</td>\n",
              "      <td>5191.0</td>\n",
              "      <td>0</td>\n",
              "    </tr>\n",
              "  </tbody>\n",
              "</table>\n",
              "<p>5 rows × 21 columns</p>\n",
              "</div>"
            ],
            "text/plain": [
              "   age  job  marital  education  default  housing  loan  contact  month  \\\n",
              "0   56    3        1          0        0        0     0        1      6   \n",
              "1   57    7        1          3        1        0     0        1      6   \n",
              "2   37    7        1          3        0        2     0        1      6   \n",
              "3   40    0        1          1        0        0     0        1      6   \n",
              "4   56    7        1          3        0        0     2        1      6   \n",
              "\n",
              "   day_of_week  ...  campaign  pdays  previous  poutcome  emp.var.rate  \\\n",
              "0            1  ...         1    999         0         1           1.1   \n",
              "1            1  ...         1    999         0         1           1.1   \n",
              "2            1  ...         1    999         0         1           1.1   \n",
              "3            1  ...         1    999         0         1           1.1   \n",
              "4            1  ...         1    999         0         1           1.1   \n",
              "\n",
              "   cons.price.idx  cons.conf.idx  euribor3m  nr.employed  y  \n",
              "0          93.994          -36.4      4.857       5191.0  0  \n",
              "1          93.994          -36.4      4.857       5191.0  0  \n",
              "2          93.994          -36.4      4.857       5191.0  0  \n",
              "3          93.994          -36.4      4.857       5191.0  0  \n",
              "4          93.994          -36.4      4.857       5191.0  0  \n",
              "\n",
              "[5 rows x 21 columns]"
            ]
          },
          "metadata": {
            "tags": []
          },
          "execution_count": 57
        }
      ]
    },
    {
      "cell_type": "markdown",
      "metadata": {
        "id": "rbrX2dhbDkrB",
        "colab_type": "text"
      },
      "source": [
        "After the data is loaded, we can save the attributes and responses in separate variables to use to build the ensemble"
      ]
    },
    {
      "cell_type": "code",
      "metadata": {
        "id": "xal2662yAFKh",
        "colab_type": "code",
        "colab": {},
        "outputId": "38d87639-8ef8-43b0-b8bf-e1cf7364c021"
      },
      "source": [
        "x = bank_data.iloc[:,0:20]\n",
        "y = bank_data.iloc[:,20:21]\n",
        "y.shape"
      ],
      "execution_count": 0,
      "outputs": [
        {
          "output_type": "execute_result",
          "data": {
            "text/plain": [
              "(41188, 1)"
            ]
          },
          "metadata": {
            "tags": []
          },
          "execution_count": 58
        }
      ]
    },
    {
      "cell_type": "code",
      "metadata": {
        "id": "AHIB4oYiAFKk",
        "colab_type": "code",
        "colab": {}
      },
      "source": [
        "# To increase quality of figures\n",
        "plt.rcParams[\"figure.figsize\"] = (20, 10)"
      ],
      "execution_count": 0,
      "outputs": []
    },
    {
      "cell_type": "markdown",
      "metadata": {
        "id": "n8yxpe1iEmuf",
        "colab_type": "text"
      },
      "source": [
        "Now, we separate the 30% data for the testing to check the generaization error later on."
      ]
    },
    {
      "cell_type": "code",
      "metadata": {
        "id": "F5JR8DHHAFKm",
        "colab_type": "code",
        "colab": {},
        "outputId": "82113c31-66f5-4bde-c48c-d1e171f7bf83"
      },
      "source": [
        "x_train, x_test, y_train, y_test = train_test_split(x,y, test_size = 0.3, random_state = 123)\n",
        "y_train = y_train.values\n",
        "x_train = x_train.values\n",
        "x_train.shape"
      ],
      "execution_count": 0,
      "outputs": [
        {
          "output_type": "execute_result",
          "data": {
            "text/plain": [
              "(28831, 20)"
            ]
          },
          "metadata": {
            "tags": []
          },
          "execution_count": 60
        }
      ]
    },
    {
      "cell_type": "code",
      "metadata": {
        "id": "9vVKhod5AFKp",
        "colab_type": "code",
        "colab": {},
        "outputId": "b3e0dbb2-2240-4190-bce0-95d501b6e07f"
      },
      "source": [
        "y_train.shape"
      ],
      "execution_count": 0,
      "outputs": [
        {
          "output_type": "execute_result",
          "data": {
            "text/plain": [
              "(28831, 1)"
            ]
          },
          "metadata": {
            "tags": []
          },
          "execution_count": 61
        }
      ]
    },
    {
      "cell_type": "markdown",
      "metadata": {
        "id": "myKkNIehFjWc",
        "colab_type": "text"
      },
      "source": [
        "After loading the data, we can build the random forest ensemble on specified training data. We can define multiple cases to check the behavior of our ensemble. \n",
        "\n",
        "**Case 1:**\n",
        "\n",
        "In this case, we uses the best parameter's found from question 1 and check the accuracy of the enseble with those parameters. Refer the code and results below.\n",
        "\n",
        "Also, we can also use the concept of calss imbalance here. As the data is imbalanced, we can use the class_weight argument to nullify the imbalance effect."
      ]
    },
    {
      "cell_type": "code",
      "metadata": {
        "id": "btXHlgIIAFKr",
        "colab_type": "code",
        "colab": {}
      },
      "source": [
        "model_forest=RandomForestClassifier(class_weight= 'balanced',random_state=598, max_features='sqrt', max_depth=5, min_samples_split=3, n_estimators=1000)\n",
        "model_forest.fit(x_train, y_train)"
      ],
      "execution_count": 0,
      "outputs": []
    },
    {
      "cell_type": "code",
      "metadata": {
        "id": "am0DZnxGAFKt",
        "colab_type": "code",
        "colab": {},
        "outputId": "954a1b42-8e40-4f84-c5fe-3c09859392df"
      },
      "source": [
        "y_test_hat = model_forest.predict(x_test)\n",
        "\n",
        "print('Accuracy:', metrics.accuracy_score(y_test, y_test_hat))"
      ],
      "execution_count": 0,
      "outputs": [
        {
          "output_type": "stream",
          "text": [
            "Accuracy: 0.9087966334870924\n"
          ],
          "name": "stdout"
        }
      ]
    },
    {
      "cell_type": "markdown",
      "metadata": {
        "id": "Tau_RcoLGaHX",
        "colab_type": "text"
      },
      "source": [
        "**Case 2:** \n",
        "\n",
        "Another possibility in case of ensemble is to use the gridsearch to find the best paramters from the specified range. To do so, we uses the following code. \n",
        "\n",
        "We define the range/possible_values for each argument such as n_estimaters, max_depth, and min_samples_split.\n"
      ]
    },
    {
      "cell_type": "code",
      "metadata": {
        "id": "dDtwbSERAFKy",
        "colab_type": "code",
        "colab": {}
      },
      "source": [
        "model_forest = GridSearchCV(RandomForestClassifier(class_weight= 'balanced',random_state=598, max_features='sqrt'),\n",
        "                            \n",
        "                            n_jobs=-1,\n",
        "                            iid=False,\n",
        "                            param_grid={\n",
        "                                'n_estimators': [300, 400, 500],\n",
        "                                'max_depth': [7, 8, 9,10,11,12],\n",
        "                                'min_samples_split': [100, 150, 200]\n",
        "                            })"
      ],
      "execution_count": 0,
      "outputs": []
    },
    {
      "cell_type": "code",
      "metadata": {
        "id": "8BYvaKM0AFK0",
        "colab_type": "code",
        "colab": {},
        "outputId": "59e6b6c0-81ce-423d-8ae5-678c7351ff53"
      },
      "source": [
        "model_forest.fit(x_train, y_train)\n",
        "print('The parameters found by CV search:')\n",
        "print(model_forest.best_params_)"
      ],
      "execution_count": 0,
      "outputs": [
        {
          "output_type": "stream",
          "text": [
            "C:\\Users\\skesarwa\\AppData\\Local\\Continuum\\anaconda3\\lib\\site-packages\\sklearn\\model_selection\\_split.py:1978: FutureWarning: The default value of cv will change from 3 to 5 in version 0.22. Specify it explicitly to silence this warning.\n",
            "  warnings.warn(CV_WARNING, FutureWarning)\n",
            "C:\\Users\\skesarwa\\AppData\\Local\\Continuum\\anaconda3\\lib\\site-packages\\sklearn\\model_selection\\_search.py:715: DataConversionWarning: A column-vector y was passed when a 1d array was expected. Please change the shape of y to (n_samples,), for example using ravel().\n",
            "  self.best_estimator_.fit(X, y, **fit_params)\n"
          ],
          "name": "stderr"
        },
        {
          "output_type": "stream",
          "text": [
            "The parameters found by CV search:\n",
            "{'max_depth': 12, 'min_samples_split': 100, 'n_estimators': 500}\n"
          ],
          "name": "stdout"
        }
      ]
    },
    {
      "cell_type": "code",
      "metadata": {
        "id": "aY24pbjUAFK2",
        "colab_type": "code",
        "colab": {},
        "outputId": "bd2f0474-a9e8-43c4-ad83-b5613a373133"
      },
      "source": [
        "y_test_hat = model_forest.predict(x_test)\n",
        "\n",
        "print('Accuracy:', metrics.accuracy_score(y_test, y_test_hat))"
      ],
      "execution_count": 0,
      "outputs": [
        {
          "output_type": "stream",
          "text": [
            "Accuracy: 0.8602411588573279\n"
          ],
          "name": "stdout"
        }
      ]
    },
    {
      "cell_type": "markdown",
      "metadata": {
        "id": "9mS-Np_xHLEz",
        "colab_type": "text"
      },
      "source": [
        "**Case 3:**\n",
        "\n",
        "Finally, we can make the full tree without specifying any hyperparameter value, since the random forest uses the randomized value and weight over the various trees, the overfitting does not happen very quickly. So, many times, it is advisable to use the trees to maximum limit. \n",
        "\n",
        "We can use the following code to check the accuracy in this case.\n"
      ]
    },
    {
      "cell_type": "code",
      "metadata": {
        "id": "33AdFbmeAFK6",
        "colab_type": "code",
        "colab": {},
        "outputId": "c3f294c6-154c-4fd2-a014-a139f2d2e967"
      },
      "source": [
        "model_forest = RandomForestClassifier(class_weight= 'balanced',random_state=598, max_features='sqrt',n_estimators=1000)\n",
        "model_forest.fit(x_train, y_train)"
      ],
      "execution_count": 0,
      "outputs": [
        {
          "output_type": "stream",
          "text": [
            "C:\\Users\\skesarwa\\AppData\\Local\\Continuum\\anaconda3\\lib\\site-packages\\ipykernel_launcher.py:2: DataConversionWarning: A column-vector y was passed when a 1d array was expected. Please change the shape of y to (n_samples,), for example using ravel().\n",
            "  \n"
          ],
          "name": "stderr"
        },
        {
          "output_type": "execute_result",
          "data": {
            "text/plain": [
              "RandomForestClassifier(bootstrap=True, class_weight='balanced',\n",
              "                       criterion='gini', max_depth=None, max_features='sqrt',\n",
              "                       max_leaf_nodes=None, min_impurity_decrease=0.0,\n",
              "                       min_impurity_split=None, min_samples_leaf=1,\n",
              "                       min_samples_split=2, min_weight_fraction_leaf=0.0,\n",
              "                       n_estimators=1000, n_jobs=None, oob_score=False,\n",
              "                       random_state=598, verbose=0, warm_start=False)"
            ]
          },
          "metadata": {
            "tags": []
          },
          "execution_count": 110
        }
      ]
    },
    {
      "cell_type": "code",
      "metadata": {
        "id": "GxR6Y9ddAFK9",
        "colab_type": "code",
        "colab": {}
      },
      "source": [
        "y_test_hat = model_forest.predict(x_test)"
      ],
      "execution_count": 0,
      "outputs": []
    },
    {
      "cell_type": "code",
      "metadata": {
        "id": "ieFyDNgbAFK_",
        "colab_type": "code",
        "colab": {},
        "outputId": "0b4fabe9-38f2-47ba-aee1-4ac34e372412"
      },
      "source": [
        "print('Accuracy:', metrics.accuracy_score(y_test, y_test_hat))"
      ],
      "execution_count": 0,
      "outputs": [
        {
          "output_type": "stream",
          "text": [
            "Accuracy: 0.9121145909201263\n"
          ],
          "name": "stdout"
        }
      ]
    },
    {
      "cell_type": "markdown",
      "metadata": {
        "id": "MF9QVK5lH7gJ",
        "colab_type": "text"
      },
      "source": [
        "To Answer the part A of the problem, we can compare the accuracy of the ensemble in various defined cases. \n",
        "\n",
        "We observe that if we use the enseble with the trees to its maximum splitting limit, we get the better accuracy\n"
      ]
    },
    {
      "cell_type": "markdown",
      "metadata": {
        "id": "KcfmTy_PIYFi",
        "colab_type": "text"
      },
      "source": [
        "Now, to choose for the model to answer the part b of the problem 2 . We choose the ensemble method with maximum split i.e. with no stopping criteria because while constructing ensemble, the overfitting averages out and the accuracy achieved is more than the case discussed in question 1 without overfitting"
      ]
    }
  ]
}