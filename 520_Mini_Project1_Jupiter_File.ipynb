{
 "cells": [
  {
   "cell_type": "code",
   "execution_count": 125,
   "metadata": {},
   "outputs": [],
   "source": [
    "import pandas as pd\n",
    "import numpy as np"
   ]
  },
  {
   "cell_type": "code",
   "execution_count": 227,
   "metadata": {},
   "outputs": [],
   "source": [
    "from sklearn.model_selection import train_test_split \n",
    "from sklearn import preprocessing\n",
    "from sklearn.linear_model import LinearRegression\n",
    "from sklearn.naive_bayes import GaussianNB\n",
    "from sklearn import metrics\n",
    "import matplotlib.pyplot as plt\n",
    "from pandas_ml import ConfusionMatrix\n",
    "from sklearn import model_selection"
   ]
  },
  {
   "cell_type": "markdown",
   "metadata": {},
   "source": [
    "# Loading Dataset- Bank Marketing Data\n",
    "The data is related with direct marketing campaigns (phone calls) of a Portuguese banking institution. The classification goal is to predict if the client will subscribe a term deposit (variable y)\n",
    "Reference: https://www.kaggle.com/henriqueyamahata/bank-marketing\n",
    "\n",
    "Features Count: 20 and Rows: 41188"
   ]
  },
  {
   "cell_type": "code",
   "execution_count": 201,
   "metadata": {},
   "outputs": [
    {
     "data": {
      "text/html": [
       "<div>\n",
       "<style scoped>\n",
       "    .dataframe tbody tr th:only-of-type {\n",
       "        vertical-align: middle;\n",
       "    }\n",
       "\n",
       "    .dataframe tbody tr th {\n",
       "        vertical-align: top;\n",
       "    }\n",
       "\n",
       "    .dataframe thead th {\n",
       "        text-align: right;\n",
       "    }\n",
       "</style>\n",
       "<table border=\"1\" class=\"dataframe\">\n",
       "  <thead>\n",
       "    <tr style=\"text-align: right;\">\n",
       "      <th></th>\n",
       "      <th>age</th>\n",
       "      <th>job</th>\n",
       "      <th>marital</th>\n",
       "      <th>education</th>\n",
       "      <th>default</th>\n",
       "      <th>housing</th>\n",
       "      <th>loan</th>\n",
       "      <th>contact</th>\n",
       "      <th>month</th>\n",
       "      <th>day_of_week</th>\n",
       "      <th>...</th>\n",
       "      <th>campaign</th>\n",
       "      <th>pdays</th>\n",
       "      <th>previous</th>\n",
       "      <th>poutcome</th>\n",
       "      <th>emp.var.rate</th>\n",
       "      <th>cons.price.idx</th>\n",
       "      <th>cons.conf.idx</th>\n",
       "      <th>euribor3m</th>\n",
       "      <th>nr.employed</th>\n",
       "      <th>y</th>\n",
       "    </tr>\n",
       "  </thead>\n",
       "  <tbody>\n",
       "    <tr>\n",
       "      <th>0</th>\n",
       "      <td>56</td>\n",
       "      <td>housemaid</td>\n",
       "      <td>married</td>\n",
       "      <td>basic.4y</td>\n",
       "      <td>no</td>\n",
       "      <td>no</td>\n",
       "      <td>no</td>\n",
       "      <td>telephone</td>\n",
       "      <td>may</td>\n",
       "      <td>mon</td>\n",
       "      <td>...</td>\n",
       "      <td>1</td>\n",
       "      <td>999</td>\n",
       "      <td>0</td>\n",
       "      <td>nonexistent</td>\n",
       "      <td>1.1</td>\n",
       "      <td>93.994</td>\n",
       "      <td>-36.4</td>\n",
       "      <td>4.857</td>\n",
       "      <td>5191.0</td>\n",
       "      <td>no</td>\n",
       "    </tr>\n",
       "    <tr>\n",
       "      <th>1</th>\n",
       "      <td>57</td>\n",
       "      <td>services</td>\n",
       "      <td>married</td>\n",
       "      <td>high.school</td>\n",
       "      <td>unknown</td>\n",
       "      <td>no</td>\n",
       "      <td>no</td>\n",
       "      <td>telephone</td>\n",
       "      <td>may</td>\n",
       "      <td>mon</td>\n",
       "      <td>...</td>\n",
       "      <td>1</td>\n",
       "      <td>999</td>\n",
       "      <td>0</td>\n",
       "      <td>nonexistent</td>\n",
       "      <td>1.1</td>\n",
       "      <td>93.994</td>\n",
       "      <td>-36.4</td>\n",
       "      <td>4.857</td>\n",
       "      <td>5191.0</td>\n",
       "      <td>no</td>\n",
       "    </tr>\n",
       "    <tr>\n",
       "      <th>2</th>\n",
       "      <td>37</td>\n",
       "      <td>services</td>\n",
       "      <td>married</td>\n",
       "      <td>high.school</td>\n",
       "      <td>no</td>\n",
       "      <td>yes</td>\n",
       "      <td>no</td>\n",
       "      <td>telephone</td>\n",
       "      <td>may</td>\n",
       "      <td>mon</td>\n",
       "      <td>...</td>\n",
       "      <td>1</td>\n",
       "      <td>999</td>\n",
       "      <td>0</td>\n",
       "      <td>nonexistent</td>\n",
       "      <td>1.1</td>\n",
       "      <td>93.994</td>\n",
       "      <td>-36.4</td>\n",
       "      <td>4.857</td>\n",
       "      <td>5191.0</td>\n",
       "      <td>no</td>\n",
       "    </tr>\n",
       "    <tr>\n",
       "      <th>3</th>\n",
       "      <td>40</td>\n",
       "      <td>admin.</td>\n",
       "      <td>married</td>\n",
       "      <td>basic.6y</td>\n",
       "      <td>no</td>\n",
       "      <td>no</td>\n",
       "      <td>no</td>\n",
       "      <td>telephone</td>\n",
       "      <td>may</td>\n",
       "      <td>mon</td>\n",
       "      <td>...</td>\n",
       "      <td>1</td>\n",
       "      <td>999</td>\n",
       "      <td>0</td>\n",
       "      <td>nonexistent</td>\n",
       "      <td>1.1</td>\n",
       "      <td>93.994</td>\n",
       "      <td>-36.4</td>\n",
       "      <td>4.857</td>\n",
       "      <td>5191.0</td>\n",
       "      <td>no</td>\n",
       "    </tr>\n",
       "    <tr>\n",
       "      <th>4</th>\n",
       "      <td>56</td>\n",
       "      <td>services</td>\n",
       "      <td>married</td>\n",
       "      <td>high.school</td>\n",
       "      <td>no</td>\n",
       "      <td>no</td>\n",
       "      <td>yes</td>\n",
       "      <td>telephone</td>\n",
       "      <td>may</td>\n",
       "      <td>mon</td>\n",
       "      <td>...</td>\n",
       "      <td>1</td>\n",
       "      <td>999</td>\n",
       "      <td>0</td>\n",
       "      <td>nonexistent</td>\n",
       "      <td>1.1</td>\n",
       "      <td>93.994</td>\n",
       "      <td>-36.4</td>\n",
       "      <td>4.857</td>\n",
       "      <td>5191.0</td>\n",
       "      <td>no</td>\n",
       "    </tr>\n",
       "  </tbody>\n",
       "</table>\n",
       "<p>5 rows × 21 columns</p>\n",
       "</div>"
      ],
      "text/plain": [
       "   age        job  marital    education  default housing loan    contact  \\\n",
       "0   56  housemaid  married     basic.4y       no      no   no  telephone   \n",
       "1   57   services  married  high.school  unknown      no   no  telephone   \n",
       "2   37   services  married  high.school       no     yes   no  telephone   \n",
       "3   40     admin.  married     basic.6y       no      no   no  telephone   \n",
       "4   56   services  married  high.school       no      no  yes  telephone   \n",
       "\n",
       "  month day_of_week  ...  campaign  pdays  previous     poutcome emp.var.rate  \\\n",
       "0   may         mon  ...         1    999         0  nonexistent          1.1   \n",
       "1   may         mon  ...         1    999         0  nonexistent          1.1   \n",
       "2   may         mon  ...         1    999         0  nonexistent          1.1   \n",
       "3   may         mon  ...         1    999         0  nonexistent          1.1   \n",
       "4   may         mon  ...         1    999         0  nonexistent          1.1   \n",
       "\n",
       "   cons.price.idx  cons.conf.idx  euribor3m  nr.employed   y  \n",
       "0          93.994          -36.4      4.857       5191.0  no  \n",
       "1          93.994          -36.4      4.857       5191.0  no  \n",
       "2          93.994          -36.4      4.857       5191.0  no  \n",
       "3          93.994          -36.4      4.857       5191.0  no  \n",
       "4          93.994          -36.4      4.857       5191.0  no  \n",
       "\n",
       "[5 rows x 21 columns]"
      ]
     },
     "execution_count": 201,
     "metadata": {},
     "output_type": "execute_result"
    }
   ],
   "source": [
    "bank_data = pd.read_csv('./bank-additional-full.csv')\n",
    "bank_data.head(5)"
   ]
  },
  {
   "cell_type": "code",
   "execution_count": 202,
   "metadata": {},
   "outputs": [
    {
     "data": {
      "text/plain": [
       "(41188, 21)"
      ]
     },
     "execution_count": 202,
     "metadata": {},
     "output_type": "execute_result"
    }
   ],
   "source": [
    "#Total rows and columns in dataset\n",
    "bank_data.shape"
   ]
  },
  {
   "cell_type": "code",
   "execution_count": 203,
   "metadata": {},
   "outputs": [
    {
     "data": {
      "text/plain": [
       "False"
      ]
     },
     "execution_count": 203,
     "metadata": {},
     "output_type": "execute_result"
    }
   ],
   "source": [
    "#Checking missing/null values\n",
    "bank_data.isnull().values.any()"
   ]
  },
  {
   "cell_type": "markdown",
   "metadata": {},
   "source": [
    "# Converting Categorical features into numerical features "
   ]
  },
  {
   "cell_type": "code",
   "execution_count": 204,
   "metadata": {},
   "outputs": [],
   "source": [
    "bank_data[\"job\"] = bank_data[\"job\"].astype('category')\n",
    "bank_data[\"marital\"] = bank_data[\"marital\"].astype('category')\n",
    "bank_data[\"education\"] = bank_data[\"education\"].astype('category')\n",
    "bank_data[\"default\"] = bank_data[\"default\"].astype('category')\n",
    "bank_data[\"housing\"] = bank_data[\"housing\"].astype('category')\n",
    "bank_data[\"loan\"] = bank_data[\"loan\"].astype('category')\n",
    "bank_data[\"contact\"] = bank_data[\"contact\"].astype('category')\n",
    "bank_data[\"month\"] = bank_data[\"month\"].astype('category')\n",
    "bank_data[\"day_of_week\"] = bank_data[\"day_of_week\"].astype('category')\n",
    "bank_data[\"poutcome\"] = bank_data[\"poutcome\"].astype('category')\n",
    "bank_data[\"y\"] = bank_data[\"y\"].astype('category')"
   ]
  },
  {
   "cell_type": "code",
   "execution_count": 205,
   "metadata": {},
   "outputs": [],
   "source": [
    "bank_data[\"job\"] = bank_data[\"job\"].cat.codes\n",
    "bank_data[\"marital\"] = bank_data[\"marital\"].cat.codes\n",
    "bank_data[\"education\"] = bank_data[\"education\"].cat.codes\n",
    "bank_data[\"default\"] = bank_data[\"default\"].cat.codes\n",
    "bank_data[\"housing\"] = bank_data[\"housing\"].cat.codes\n",
    "bank_data[\"loan\"] = bank_data[\"loan\"].cat.codes\n",
    "bank_data[\"contact\"] = bank_data[\"contact\"].cat.codes\n",
    "bank_data[\"month\"] = bank_data[\"month\"].cat.codes\n",
    "bank_data[\"day_of_week\"] = bank_data[\"day_of_week\"].cat.codes\n",
    "bank_data[\"poutcome\"] = bank_data[\"poutcome\"].cat.codes\n",
    "bank_data[\"y\"] = bank_data[\"y\"].cat.codes"
   ]
  },
  {
   "cell_type": "markdown",
   "metadata": {},
   "source": [
    "# Case 1: Naive Bayes on all instances as training data and test data\n",
    "- Building a naïve Bayes classifier"
   ]
  },
  {
   "cell_type": "markdown",
   "metadata": {},
   "source": [
    "### Splitting dataset features and target values"
   ]
  },
  {
   "cell_type": "code",
   "execution_count": 234,
   "metadata": {},
   "outputs": [],
   "source": [
    "x = bank_data.iloc[:,0:20]\n",
    "y = bank_data.iloc[:,20:21]"
   ]
  },
  {
   "cell_type": "markdown",
   "metadata": {},
   "source": [
    "### Fitting Naive Bayes algorithm "
   ]
  },
  {
   "cell_type": "code",
   "execution_count": 207,
   "metadata": {},
   "outputs": [
    {
     "name": "stderr",
     "output_type": "stream",
     "text": [
      "C:\\ProgramData\\Anaconda3\\lib\\site-packages\\sklearn\\utils\\validation.py:761: DataConversionWarning: A column-vector y was passed when a 1d array was expected. Please change the shape of y to (n_samples, ), for example using ravel().\n",
      "  y = column_or_1d(y, warn=True)\n"
     ]
    }
   ],
   "source": [
    "model = GaussianNB()\n",
    "model.fit(x, y)\n",
    "yhat = model.predict(x)"
   ]
  },
  {
   "cell_type": "markdown",
   "metadata": {},
   "source": [
    "### Summary"
   ]
  },
  {
   "cell_type": "code",
   "execution_count": 208,
   "metadata": {},
   "outputs": [
    {
     "name": "stdout",
     "output_type": "stream",
     "text": [
      "Accuracy:\n",
      "0.8465572496843741\n",
      "Classification report:\n",
      "              precision    recall  f1-score   support\n",
      "\n",
      "           0       0.95      0.88      0.91     36548\n",
      "           1       0.38      0.60      0.47      4640\n",
      "\n",
      "   micro avg       0.85      0.85      0.85     41188\n",
      "   macro avg       0.66      0.74      0.69     41188\n",
      "weighted avg       0.88      0.85      0.86     41188\n",
      "\n"
     ]
    }
   ],
   "source": [
    "print('Accuracy:')\n",
    "print(metrics.accuracy_score(y, yhat))\n",
    "print('Classification report:')\n",
    "print(metrics.classification_report(y, yhat))"
   ]
  },
  {
   "cell_type": "code",
   "execution_count": 209,
   "metadata": {},
   "outputs": [],
   "source": [
    "y = y[\"y\"]"
   ]
  },
  {
   "cell_type": "markdown",
   "metadata": {},
   "source": [
    "### Confusion Matrix"
   ]
  },
  {
   "cell_type": "code",
   "execution_count": 213,
   "metadata": {},
   "outputs": [
    {
     "name": "stdout",
     "output_type": "stream",
     "text": [
      "Confusion matrix:\n",
      "Predicted  False  True  __all__\n",
      "Actual                         \n",
      "False      32085  4463    36548\n",
      "True        1857  2783     4640\n",
      "__all__    33942  7246    41188\n",
      "Stats:\n",
      "population: 41188\n",
      "P: 4640\n",
      "N: 36548\n",
      "PositiveTest: 7246\n",
      "NegativeTest: 33942\n",
      "TP: 2783\n",
      "TN: 32085\n",
      "FP: 4463\n",
      "FN: 1857\n",
      "TPR: 0.5997844827586207\n",
      "TNR: 0.8778866148626464\n",
      "PPV: 0.384073971846536\n",
      "NPV: 0.9452890224500619\n",
      "FPR: 0.12211338513735362\n",
      "FDR: 0.615926028153464\n",
      "FNR: 0.4002155172413793\n",
      "ACC: 0.8465572496843741\n",
      "F1_score: 0.46828201245162376\n",
      "MCC: 0.3966449079485113\n",
      "informedness: 0.477671097621267\n",
      "markedness: 0.3293629942965979\n",
      "prevalence: 0.11265417111780131\n",
      "LRP: 4.911701383791636\n",
      "LRN: 0.4558852025600103\n",
      "DOR: 10.773987302527297\n",
      "FOR: 0.05471097754993813\n"
     ]
    },
    {
     "data": {
      "image/png": "[encoded data removed]",
      "text/plain": [
       "<Figure size 432x288 with 2 Axes>"
      ]
     },
     "metadata": {
      "needs_background": "light"
     },
     "output_type": "display_data"
    },
    {
     "data": {
      "text/plain": [
       "<Figure size 432x288 with 0 Axes>"
      ]
     },
     "metadata": {},
     "output_type": "display_data"
    }
   ],
   "source": [
    "print('Confusion matrix:')\n",
    "cm = ConfusionMatrix(y, yhat)\n",
    "print(cm)\n",
    "print('Stats:')\n",
    "cm.print_stats()\n",
    "ax = cm.plot(backend='seaborn', annot=True, fmt='g')\n",
    "ax.set_title('Confusion Matrix')\n",
    "plt.show()\n",
    "plt.clf()"
   ]
  },
  {
   "cell_type": "markdown",
   "metadata": {},
   "source": [
    "### ROC plot"
   ]
  },
  {
   "cell_type": "code",
   "execution_count": 214,
   "metadata": {},
   "outputs": [
    {
     "data": {
      "image/png": "[encoded data removed]",
      "text/plain": [
       "<Figure size 432x288 with 1 Axes>"
      ]
     },
     "metadata": {
      "needs_background": "light"
     },
     "output_type": "display_data"
    }
   ],
   "source": [
    "fpr, tpr, threshold = metrics.roc_curve(y, yhat)\n",
    "roc_auc = metrics.auc(fpr, tpr)\n",
    "plt.title('Receiver Operating Characteristic')\n",
    "plt.plot(fpr, tpr, 'b', label='AUC = %0.2f' % roc_auc)\n",
    "plt.legend(loc='lower right')\n",
    "plt.plot([0, 1], [0, 1], 'r--')\n",
    "plt.xlim([0, 1])\n",
    "plt.ylim([0, 1])\n",
    "plt.ylabel('True Positive Rate')\n",
    "plt.xlabel('False Positive Rate')\n",
    "plt.show()"
   ]
  },
  {
   "cell_type": "markdown",
   "metadata": {},
   "source": [
    "# Case 2: Naive Bayes on 20% test data and 80% training data"
   ]
  },
  {
   "cell_type": "code",
   "execution_count": 217,
   "metadata": {},
   "outputs": [],
   "source": [
    "#Spliting dataset into training and testing dataset\n",
    "x_train, x_test, y_train, y_test = train_test_split(x,y,test_size =0.2, random_state=10)"
   ]
  },
  {
   "cell_type": "code",
   "execution_count": 218,
   "metadata": {},
   "outputs": [],
   "source": [
    "model = GaussianNB()\n",
    "model.fit(x_train, y_train)\n",
    "yhat = model.predict(x_test)"
   ]
  },
  {
   "cell_type": "markdown",
   "metadata": {},
   "source": [
    "### Summary"
   ]
  },
  {
   "cell_type": "code",
   "execution_count": 219,
   "metadata": {},
   "outputs": [
    {
     "name": "stdout",
     "output_type": "stream",
     "text": [
      "Accuracy:\n",
      "0.8394027676620539\n",
      "Classification report:\n",
      "              precision    recall  f1-score   support\n",
      "\n",
      "           0       0.94      0.87      0.91      7310\n",
      "           1       0.36      0.57      0.44       928\n",
      "\n",
      "   micro avg       0.84      0.84      0.84      8238\n",
      "   macro avg       0.65      0.72      0.67      8238\n",
      "weighted avg       0.88      0.84      0.85      8238\n",
      "\n"
     ]
    }
   ],
   "source": [
    "print('Accuracy:')\n",
    "print(metrics.accuracy_score(y_test, yhat))\n",
    "print('Classification report:')\n",
    "print(metrics.classification_report(y_test, yhat))"
   ]
  },
  {
   "cell_type": "markdown",
   "metadata": {},
   "source": [
    "### Confusion Matrix"
   ]
  },
  {
   "cell_type": "code",
   "execution_count": 220,
   "metadata": {},
   "outputs": [
    {
     "name": "stdout",
     "output_type": "stream",
     "text": [
      "Confusion matrix:\n",
      "Predicted  False  True  __all__\n",
      "Actual                         \n",
      "False       1297   276     1573\n",
      "True          43     6       49\n",
      "__all__     1340   282     1622\n",
      "Stats:\n",
      "population: 1622\n",
      "P: 49\n",
      "N: 1573\n",
      "PositiveTest: 282\n",
      "NegativeTest: 1340\n",
      "TP: 6\n",
      "TN: 1297\n",
      "FP: 276\n",
      "FN: 43\n",
      "TPR: 0.12244897959183673\n",
      "TNR: 0.82453909726637\n",
      "PPV: 0.02127659574468085\n",
      "NPV: 0.9679104477611941\n",
      "FPR: 0.17546090273363002\n",
      "FDR: 0.9787234042553191\n",
      "FNR: 0.8775510204081632\n",
      "ACC: 0.8033292231812577\n",
      "F1_score: 0.03625377643504532\n",
      "MCC: -0.023941921781722435\n",
      "informedness: -0.05301192314179326\n",
      "markedness: -0.010812956494125059\n",
      "prevalence: 0.03020961775585697\n",
      "LRP: 0.6978704525288375\n",
      "LRN: 1.0642927949900083\n",
      "DOR: 0.6557128412537916\n",
      "FOR: 0.03208955223880597\n"
     ]
    },
    {
     "data": {
      "image/png": "[encoded data removed]",
      "text/plain": [
       "<Figure size 432x288 with 2 Axes>"
      ]
     },
     "metadata": {
      "needs_background": "light"
     },
     "output_type": "display_data"
    }
   ],
   "source": [
    "print('Confusion matrix:')\n",
    "cm = ConfusionMatrix(y_test, yhat)\n",
    "print(cm)\n",
    "print('Stats:')\n",
    "cm.print_stats()\n",
    "cm.plot(backend='seaborn', annot=True, fmt='g')\n",
    "plt.show()"
   ]
  },
  {
   "cell_type": "markdown",
   "metadata": {},
   "source": [
    "### ROC Plot"
   ]
  },
  {
   "cell_type": "code",
   "execution_count": 221,
   "metadata": {},
   "outputs": [
    {
     "data": {
      "image/png": "[encoded data removed]",
      "text/plain": [
       "<Figure size 432x288 with 1 Axes>"
      ]
     },
     "metadata": {
      "needs_background": "light"
     },
     "output_type": "display_data"
    }
   ],
   "source": [
    "fpr, tpr, threshold = metrics.roc_curve(y_test, yhat)\n",
    "roc_auc = metrics.auc(fpr, tpr)\n",
    "plt.title('Receiver Operating Characteristic')\n",
    "plt.plot(fpr, tpr, 'b', label='AUC = %0.2f' % roc_auc)\n",
    "plt.legend(loc='lower right')\n",
    "plt.plot([0, 1], [0, 1], 'r--')\n",
    "plt.xlim([0, 1])\n",
    "plt.ylim([0, 1])\n",
    "plt.ylabel('True Positive Rate')\n",
    "plt.xlabel('False Positive Rate')\n",
    "plt.show()"
   ]
  },
  {
   "cell_type": "markdown",
   "metadata": {},
   "source": [
    "# Case 3: Naive Bayes with Cross Validation"
   ]
  },
  {
   "cell_type": "code",
   "execution_count": 222,
   "metadata": {},
   "outputs": [],
   "source": [
    "seed = 3421\n",
    "np.random.seed(seed)\n",
    "actuals = []\n",
    "probs = []\n",
    "hats = []"
   ]
  },
  {
   "cell_type": "code",
   "execution_count": 224,
   "metadata": {},
   "outputs": [],
   "source": [
    "x = x.values"
   ]
  },
  {
   "cell_type": "code",
   "execution_count": 228,
   "metadata": {},
   "outputs": [],
   "source": [
    "kfold = model_selection.KFold(n_splits=5, shuffle=True, random_state=seed)\n",
    "for train, test in kfold.split(x, y):\n",
    "    xtrain = x[train]        \n",
    "    xtest = x[test]\n",
    "    model.fit(xtrain, y[train])\n",
    "    foldhats = model.predict(xtest)\n",
    "    foldprobs = model.predict_proba(xtest)[:,1]\n",
    "    actuals = np.append(actuals, y[test])\n",
    "    probs = np.append(probs, foldprobs)    \n",
    "    hats = np.append(hats, foldhats)"
   ]
  },
  {
   "cell_type": "markdown",
   "metadata": {},
   "source": [
    "### Summary of the Model"
   ]
  },
  {
   "cell_type": "code",
   "execution_count": 229,
   "metadata": {},
   "outputs": [
    {
     "name": "stdout",
     "output_type": "stream",
     "text": [
      "Accuracy:\n",
      "0.8467272020976984\n",
      "Classification report:\n",
      "              precision    recall  f1-score   support\n",
      "\n",
      "         0.0       0.95      0.88      0.91     36548\n",
      "         1.0       0.38      0.60      0.47      4640\n",
      "\n",
      "   micro avg       0.85      0.85      0.85     41188\n",
      "   macro avg       0.66      0.74      0.69     41188\n",
      "weighted avg       0.88      0.85      0.86     41188\n",
      "\n"
     ]
    }
   ],
   "source": [
    "print('Accuracy:')\n",
    "print(metrics.accuracy_score(actuals, hats))\n",
    "print('Classification report:')\n",
    "print(metrics.classification_report(actuals, hats))"
   ]
  },
  {
   "cell_type": "markdown",
   "metadata": {},
   "source": [
    "### Confusion Matrix"
   ]
  },
  {
   "cell_type": "code",
   "execution_count": 230,
   "metadata": {},
   "outputs": [
    {
     "name": "stdout",
     "output_type": "stream",
     "text": [
      "Predicted  False  True  __all__\n",
      "Actual                         \n",
      "False      32088  4460    36548\n",
      "True        1853  2787     4640\n",
      "__all__    33941  7247    41188\n",
      "population: 41188\n",
      "P: 4640\n",
      "N: 36548\n",
      "PositiveTest: 7247\n",
      "NegativeTest: 33941\n",
      "TP: 2787\n",
      "TN: 32088\n",
      "FP: 4460\n",
      "FN: 1853\n",
      "TPR: 0.600646551724138\n",
      "TNR: 0.8779686986976032\n",
      "PPV: 0.38457292672830135\n",
      "NPV: 0.9454052620724198\n",
      "FPR: 0.12203130130239685\n",
      "FDR: 0.6154270732716987\n",
      "FNR: 0.39935344827586206\n",
      "ACC: 0.8467272020976984\n",
      "F1_score: 0.46891562210818544\n",
      "MCC: 0.3974073394724482\n",
      "informedness: 0.47861525042174113\n",
      "markedness: 0.32997818880072116\n",
      "prevalence: 0.11265417111780131\n",
      "LRP: 4.922069545384258\n",
      "LRN: 0.45486069021398046\n",
      "DOR: 10.821048402904998\n",
      "FOR: 0.05459473792758021\n"
     ]
    },
    {
     "data": {
      "image/png": "[encoded data removed]",
      "text/plain": [
       "<Figure size 432x288 with 2 Axes>"
      ]
     },
     "metadata": {
      "needs_background": "light"
     },
     "output_type": "display_data"
    },
    {
     "data": {
      "text/plain": [
       "<Figure size 432x288 with 0 Axes>"
      ]
     },
     "metadata": {},
     "output_type": "display_data"
    }
   ],
   "source": [
    "cm_cv = ConfusionMatrix(actuals, hats)\n",
    "print(cm_cv)\n",
    "cm_cv.print_stats()\n",
    "ax = cm_cv.plot(backend='seaborn', annot=True, fmt='g')\n",
    "ax.set_title('Test Confusion Matrix for CV')\n",
    "plt.show()\n",
    "plt.clf()"
   ]
  },
  {
   "cell_type": "markdown",
   "metadata": {},
   "source": [
    "### ROC plot"
   ]
  },
  {
   "cell_type": "code",
   "execution_count": 231,
   "metadata": {},
   "outputs": [
    {
     "data": {
      "image/png": "[encoded data removed]",
      "text/plain": [
       "<Figure size 432x288 with 1 Axes>"
      ]
     },
     "metadata": {
      "needs_background": "light"
     },
     "output_type": "display_data"
    }
   ],
   "source": [
    "fpr, tpr, threshold = metrics.roc_curve(actuals, probs)\n",
    "roc_auc = metrics.auc(fpr, tpr)\n",
    "plt.title('Receiver Operating Characteristic_CV')\n",
    "plt.plot(fpr, tpr, 'b', label='AUC = %0.2f' % roc_auc)\n",
    "plt.legend(loc='lower right')\n",
    "plt.plot([0, 1], [0, 1], 'r--')\n",
    "plt.xlim([0, 1])\n",
    "plt.ylim([0, 1])\n",
    "plt.ylabel('True Positive Rate')\n",
    "plt.xlabel('False Positive Rate')\n",
    "plt.show()"
   ]
  },
  {
   "cell_type": "markdown",
   "metadata": {},
   "source": [
    "# Generalization Error "
   ]
  },
  {
   "cell_type": "markdown",
   "metadata": {},
   "source": [
    "Case 1: (1 - accuracy)\t (1 – 0.84655) \t0.15344\n",
    "Case 2: (1 - accuracy)\t (1 – 0.83940) \t 0.1606\n",
    "Case 3: (1 - accuracy)\t (1 – 0.84672) \t0.15328\n",
    "    \n",
    "On Cross Validation of dataset, we get minimum generalization error"
   ]
  }
 ],
 "metadata": {
  "kernelspec": {
   "display_name": "Python 3",
   "language": "python",
   "name": "python3"
  },
  "language_info": {
   "codemirror_mode": {
    "name": "ipython",
    "version": 3
   },
   "file_extension": ".py",
   "mimetype": "text/x-python",
   "name": "python",
   "nbconvert_exporter": "python",
   "pygments_lexer": "ipython3",
   "version": "3.7.0"
  }
 },
 "nbformat": 4,
 "nbformat_minor": 2
}
